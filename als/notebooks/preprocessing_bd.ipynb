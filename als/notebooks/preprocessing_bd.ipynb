{
  "nbformat": 4,
  "nbformat_minor": 0,
  "metadata": {
    "colab": {
      "provenance": [],
      "gpuType": "V28",
      "toc_visible": true
    },
    "kernelspec": {
      "name": "python3",
      "display_name": "Python 3"
    },
    "language_info": {
      "name": "python"
    },
    "accelerator": "TPU"
  },
  "cells": [
    {
      "cell_type": "code",
      "source": [
        "!apt-get update\n",
        "!apt-get install openjdk-8-jdk-headless -qq > /dev/null\n",
        "!wget -q https://archive.apache.org/dist/spark/spark-3.5.0/spark-3.5.0-bin-hadoop3.tgz # Or the latest stable version\n",
        "!tar xf spark-3.5.0-bin-hadoop3.tgz\n",
        "!pip install -q findspark"
      ],
      "metadata": {
        "colab": {
          "base_uri": "https://localhost:8080/"
        },
        "id": "fExSjvZsF48t",
        "outputId": "766ca28d-8e76-4c01-8bd5-ac14974700d5"
      },
      "execution_count": null,
      "outputs": [
        {
          "output_type": "stream",
          "name": "stdout",
          "text": [
            "\r0% [Working]\r            \rGet:1 http://security.ubuntu.com/ubuntu jammy-security InRelease [129 kB]\n",
            "Get:2 https://cloud.r-project.org/bin/linux/ubuntu jammy-cran40/ InRelease [3,632 B]\n",
            "Get:3 https://r2u.stat.illinois.edu/ubuntu jammy InRelease [6,555 B]\n",
            "Hit:4 http://archive.ubuntu.com/ubuntu jammy InRelease\n",
            "Get:5 http://archive.ubuntu.com/ubuntu jammy-updates InRelease [128 kB]\n",
            "Hit:6 https://ppa.launchpadcontent.net/deadsnakes/ppa/ubuntu jammy InRelease\n",
            "Get:7 https://ppa.launchpadcontent.net/ubuntugis/ppa/ubuntu jammy InRelease [24.6 kB]\n",
            "Get:8 http://archive.ubuntu.com/ubuntu jammy-backports InRelease [127 kB]\n",
            "Get:9 http://security.ubuntu.com/ubuntu jammy-security/restricted amd64 Packages [4,387 kB]\n",
            "Get:10 https://r2u.stat.illinois.edu/ubuntu jammy/main amd64 Packages [2,730 kB]\n",
            "Get:11 http://security.ubuntu.com/ubuntu jammy-security/main amd64 Packages [2,944 kB]\n",
            "Get:12 http://security.ubuntu.com/ubuntu jammy-security/universe amd64 Packages [1,245 kB]\n",
            "Get:13 https://r2u.stat.illinois.edu/ubuntu jammy/main all Packages [8,968 kB]\n",
            "Get:14 http://archive.ubuntu.com/ubuntu jammy-updates/main amd64 Packages [3,255 kB]\n",
            "Get:15 https://ppa.launchpadcontent.net/ubuntugis/ppa/ubuntu jammy/main amd64 Packages [75.1 kB]\n",
            "Get:16 http://archive.ubuntu.com/ubuntu jammy-updates/universe amd64 Packages [1,552 kB]\n",
            "Get:17 http://archive.ubuntu.com/ubuntu jammy-updates/restricted amd64 Packages [4,540 kB]\n",
            "Get:18 http://archive.ubuntu.com/ubuntu jammy-backports/universe amd64 Packages [35.2 kB]\n",
            "Get:19 http://archive.ubuntu.com/ubuntu jammy-backports/main amd64 Packages [83.2 kB]\n",
            "Fetched 30.2 MB in 3s (10.2 MB/s)\n",
            "Reading package lists... Done\n",
            "W: Skipping acquire of configured file 'main/source/Sources' as repository 'https://r2u.stat.illinois.edu/ubuntu jammy InRelease' does not seem to provide it (sources.list entry misspelt?)\n"
          ]
        }
      ]
    },
    {
      "cell_type": "code",
      "source": [
        "import os\n",
        "os.environ[\"JAVA_HOME\"] = \"/usr/lib/jvm/java-8-openjdk-amd64\"\n",
        "os.environ[\"SPARK_HOME\"] = \"/content/spark-3.5.0-bin-hadoop3\" # Adjust if using a different Spark version\n",
        "\n",
        "import findspark\n",
        "findspark.init()"
      ],
      "metadata": {
        "id": "PfaC6cwbGGrw"
      },
      "execution_count": null,
      "outputs": []
    },
    {
      "cell_type": "code",
      "execution_count": null,
      "metadata": {
        "id": "4xT1MXTGyGBx"
      },
      "outputs": [],
      "source": [
        "# !pip install pyspark"
      ]
    },
    {
      "cell_type": "code",
      "source": [
        "# https://drive.google.com/file/d/1iBc9qj-t8QxyVAJCxbje1CUvb-NKGJ5k/view?usp=sharing\n",
        "!gdown --id 1iBc9qj-t8QxyVAJCxbje1CUvb-NKGJ5k\n",
        "#https://drive.google.com/file/d/1dJ5DP8e2CubX3jklSgnrA2ZU1eqT4lSo/view?usp=sharing\n",
        "!gdown --id 1dJ5DP8e2CubX3jklSgnrA2ZU1eqT4lSo"
      ],
      "metadata": {
        "colab": {
          "base_uri": "https://localhost:8080/"
        },
        "id": "pWIqZRLgy1xl",
        "outputId": "00cfcbe9-8a44-473a-c63b-66604df36518"
      },
      "execution_count": null,
      "outputs": [
        {
          "output_type": "stream",
          "name": "stdout",
          "text": [
            "/usr/local/lib/python3.11/dist-packages/gdown/__main__.py:140: FutureWarning: Option `--id` was deprecated in version 4.3.1 and will be removed in 5.0. You don't need to pass it anymore to use a file ID.\n",
            "  warnings.warn(\n",
            "Downloading...\n",
            "From: https://drive.google.com/uc?id=1iBc9qj-t8QxyVAJCxbje1CUvb-NKGJ5k\n",
            "To: /content/Appliances_5.json\n",
            "100% 4.23M/4.23M [00:00<00:00, 106MB/s]\n",
            "/usr/local/lib/python3.11/dist-packages/gdown/__main__.py:140: FutureWarning: Option `--id` was deprecated in version 4.3.1 and will be removed in 5.0. You don't need to pass it anymore to use a file ID.\n",
            "  warnings.warn(\n",
            "Downloading...\n",
            "From: https://drive.google.com/uc?id=1dJ5DP8e2CubX3jklSgnrA2ZU1eqT4lSo\n",
            "To: /content/Appliances.csv\n",
            "100% 25.2M/25.2M [00:00<00:00, 87.3MB/s]\n"
          ]
        }
      ]
    },
    {
      "cell_type": "code",
      "source": [
        "# meta data\n",
        "!gdown --id 1Pt49VPl4n6EZnwhM7KB2JaUV7aFk89wH"
      ],
      "metadata": {
        "id": "n3Eh1joTszYp",
        "colab": {
          "base_uri": "https://localhost:8080/"
        },
        "outputId": "4d1e390a-e0cb-40dd-a481-401306c6b21b"
      },
      "execution_count": null,
      "outputs": [
        {
          "output_type": "stream",
          "name": "stdout",
          "text": [
            "/usr/local/lib/python3.11/dist-packages/gdown/__main__.py:140: FutureWarning: Option `--id` was deprecated in version 4.3.1 and will be removed in 5.0. You don't need to pass it anymore to use a file ID.\n",
            "  warnings.warn(\n",
            "Downloading...\n",
            "From (original): https://drive.google.com/uc?id=1Pt49VPl4n6EZnwhM7KB2JaUV7aFk89wH\n",
            "From (redirected): https://drive.google.com/uc?id=1Pt49VPl4n6EZnwhM7KB2JaUV7aFk89wH&confirm=t&uuid=45aa8c4b-3ffe-4857-9c4d-25975ae4ab1d\n",
            "To: /content/meta_Appliances.json\n",
            "100% 670M/670M [00:05<00:00, 121MB/s]\n"
          ]
        }
      ]
    },
    {
      "cell_type": "code",
      "source": [
        "import pandas as pd"
      ],
      "metadata": {
        "id": "l_BFnDSu30xH"
      },
      "execution_count": null,
      "outputs": []
    },
    {
      "cell_type": "code",
      "source": [
        "metadata = pd.read_json(\"/content/meta_Appliances.json\", lines=True)"
      ],
      "metadata": {
        "id": "JT6MNgnh32Ef"
      },
      "execution_count": null,
      "outputs": []
    },
    {
      "cell_type": "code",
      "source": [
        "metadata.head(2)"
      ],
      "metadata": {
        "colab": {
          "base_uri": "https://localhost:8080/",
          "height": 323
        },
        "id": "q6G-mLJ24Dr5",
        "outputId": "31132dd4-3d1d-4f08-b23d-7771946494d2"
      },
      "execution_count": null,
      "outputs": [
        {
          "output_type": "execute_result",
          "data": {
            "text/plain": [
              "                                            category  \\\n",
              "0  [Appliances, Refrigerators, Freezers & Ice Mak...   \n",
              "1  [Appliances, Refrigerators, Freezers & Ice Mak...   \n",
              "\n",
              "                                               tech1  \\\n",
              "0   class=\"a-keyvalue prodDetTable\" role=\"present...   \n",
              "1   class=\"a-keyvalue prodDetTable\" role=\"present...   \n",
              "\n",
              "                                         description fit  \\\n",
              "0                                                 []       \n",
              "1  [2 X Tupperware Pure & Fresh Unique Covered Co...       \n",
              "\n",
              "                                               title also_buy tech2  \\\n",
              "0  Tupperware Freezer Square Round Container Set ...       []         \n",
              "1  2 X Tupperware Pure &amp; Fresh Unique Covered...       []         \n",
              "\n",
              "        brand                                            feature  \\\n",
              "0  Tupperware  [Each 3-pc. set includes two 7/8-cup/200 mL an...   \n",
              "1  Tupperware  [2 X Tupperware Pure & Fresh Unique Covered Co...   \n",
              "\n",
              "                                     rank     also_view details    main_cat  \\\n",
              "0  [>#39,745 in Appliances (See top 100)]            []      {}  Appliances   \n",
              "1   [>#6,118 in Appliances (See top 100)]  [B004RUGHJW]      {}  Appliances   \n",
              "\n",
              "  similar_item               date  price        asin  \\\n",
              "0               November 19, 2008         7301113188   \n",
              "1                    June 5, 2016  $3.62  7861850250   \n",
              "\n",
              "                                            imageURL  \\\n",
              "0                                                 []   \n",
              "1  [https://images-na.ssl-images-amazon.com/image...   \n",
              "\n",
              "                                     imageURLHighRes  \n",
              "0                                                 []  \n",
              "1  [https://images-na.ssl-images-amazon.com/image...  "
            ],
            "text/html": [
              "\n",
              "  <div id=\"df-a79afd09-551c-4cb7-bbb6-35819f9657af\" class=\"colab-df-container\">\n",
              "    <div>\n",
              "<style scoped>\n",
              "    .dataframe tbody tr th:only-of-type {\n",
              "        vertical-align: middle;\n",
              "    }\n",
              "\n",
              "    .dataframe tbody tr th {\n",
              "        vertical-align: top;\n",
              "    }\n",
              "\n",
              "    .dataframe thead th {\n",
              "        text-align: right;\n",
              "    }\n",
              "</style>\n",
              "<table border=\"1\" class=\"dataframe\">\n",
              "  <thead>\n",
              "    <tr style=\"text-align: right;\">\n",
              "      <th></th>\n",
              "      <th>category</th>\n",
              "      <th>tech1</th>\n",
              "      <th>description</th>\n",
              "      <th>fit</th>\n",
              "      <th>title</th>\n",
              "      <th>also_buy</th>\n",
              "      <th>tech2</th>\n",
              "      <th>brand</th>\n",
              "      <th>feature</th>\n",
              "      <th>rank</th>\n",
              "      <th>also_view</th>\n",
              "      <th>details</th>\n",
              "      <th>main_cat</th>\n",
              "      <th>similar_item</th>\n",
              "      <th>date</th>\n",
              "      <th>price</th>\n",
              "      <th>asin</th>\n",
              "      <th>imageURL</th>\n",
              "      <th>imageURLHighRes</th>\n",
              "    </tr>\n",
              "  </thead>\n",
              "  <tbody>\n",
              "    <tr>\n",
              "      <th>0</th>\n",
              "      <td>[Appliances, Refrigerators, Freezers &amp; Ice Mak...</td>\n",
              "      <td>class=\"a-keyvalue prodDetTable\" role=\"present...</td>\n",
              "      <td>[]</td>\n",
              "      <td></td>\n",
              "      <td>Tupperware Freezer Square Round Container Set ...</td>\n",
              "      <td>[]</td>\n",
              "      <td></td>\n",
              "      <td>Tupperware</td>\n",
              "      <td>[Each 3-pc. set includes two 7/8-cup/200 mL an...</td>\n",
              "      <td>[&gt;#39,745 in Appliances (See top 100)]</td>\n",
              "      <td>[]</td>\n",
              "      <td>{}</td>\n",
              "      <td>Appliances</td>\n",
              "      <td></td>\n",
              "      <td>November 19, 2008</td>\n",
              "      <td></td>\n",
              "      <td>7301113188</td>\n",
              "      <td>[]</td>\n",
              "      <td>[]</td>\n",
              "    </tr>\n",
              "    <tr>\n",
              "      <th>1</th>\n",
              "      <td>[Appliances, Refrigerators, Freezers &amp; Ice Mak...</td>\n",
              "      <td>class=\"a-keyvalue prodDetTable\" role=\"present...</td>\n",
              "      <td>[2 X Tupperware Pure &amp; Fresh Unique Covered Co...</td>\n",
              "      <td></td>\n",
              "      <td>2 X Tupperware Pure &amp;amp; Fresh Unique Covered...</td>\n",
              "      <td>[]</td>\n",
              "      <td></td>\n",
              "      <td>Tupperware</td>\n",
              "      <td>[2 X Tupperware Pure &amp; Fresh Unique Covered Co...</td>\n",
              "      <td>[&gt;#6,118 in Appliances (See top 100)]</td>\n",
              "      <td>[B004RUGHJW]</td>\n",
              "      <td>{}</td>\n",
              "      <td>Appliances</td>\n",
              "      <td></td>\n",
              "      <td>June 5, 2016</td>\n",
              "      <td>$3.62</td>\n",
              "      <td>7861850250</td>\n",
              "      <td>[https://images-na.ssl-images-amazon.com/image...</td>\n",
              "      <td>[https://images-na.ssl-images-amazon.com/image...</td>\n",
              "    </tr>\n",
              "  </tbody>\n",
              "</table>\n",
              "</div>\n",
              "    <div class=\"colab-df-buttons\">\n",
              "\n",
              "  <div class=\"colab-df-container\">\n",
              "    <button class=\"colab-df-convert\" onclick=\"convertToInteractive('df-a79afd09-551c-4cb7-bbb6-35819f9657af')\"\n",
              "            title=\"Convert this dataframe to an interactive table.\"\n",
              "            style=\"display:none;\">\n",
              "\n",
              "  <svg xmlns=\"http://www.w3.org/2000/svg\" height=\"24px\" viewBox=\"0 -960 960 960\">\n",
              "    <path d=\"M120-120v-720h720v720H120Zm60-500h600v-160H180v160Zm220 220h160v-160H400v160Zm0 220h160v-160H400v160ZM180-400h160v-160H180v160Zm440 0h160v-160H620v160ZM180-180h160v-160H180v160Zm440 0h160v-160H620v160Z\"/>\n",
              "  </svg>\n",
              "    </button>\n",
              "\n",
              "  <style>\n",
              "    .colab-df-container {\n",
              "      display:flex;\n",
              "      gap: 12px;\n",
              "    }\n",
              "\n",
              "    .colab-df-convert {\n",
              "      background-color: #E8F0FE;\n",
              "      border: none;\n",
              "      border-radius: 50%;\n",
              "      cursor: pointer;\n",
              "      display: none;\n",
              "      fill: #1967D2;\n",
              "      height: 32px;\n",
              "      padding: 0 0 0 0;\n",
              "      width: 32px;\n",
              "    }\n",
              "\n",
              "    .colab-df-convert:hover {\n",
              "      background-color: #E2EBFA;\n",
              "      box-shadow: 0px 1px 2px rgba(60, 64, 67, 0.3), 0px 1px 3px 1px rgba(60, 64, 67, 0.15);\n",
              "      fill: #174EA6;\n",
              "    }\n",
              "\n",
              "    .colab-df-buttons div {\n",
              "      margin-bottom: 4px;\n",
              "    }\n",
              "\n",
              "    [theme=dark] .colab-df-convert {\n",
              "      background-color: #3B4455;\n",
              "      fill: #D2E3FC;\n",
              "    }\n",
              "\n",
              "    [theme=dark] .colab-df-convert:hover {\n",
              "      background-color: #434B5C;\n",
              "      box-shadow: 0px 1px 3px 1px rgba(0, 0, 0, 0.15);\n",
              "      filter: drop-shadow(0px 1px 2px rgba(0, 0, 0, 0.3));\n",
              "      fill: #FFFFFF;\n",
              "    }\n",
              "  </style>\n",
              "\n",
              "    <script>\n",
              "      const buttonEl =\n",
              "        document.querySelector('#df-a79afd09-551c-4cb7-bbb6-35819f9657af button.colab-df-convert');\n",
              "      buttonEl.style.display =\n",
              "        google.colab.kernel.accessAllowed ? 'block' : 'none';\n",
              "\n",
              "      async function convertToInteractive(key) {\n",
              "        const element = document.querySelector('#df-a79afd09-551c-4cb7-bbb6-35819f9657af');\n",
              "        const dataTable =\n",
              "          await google.colab.kernel.invokeFunction('convertToInteractive',\n",
              "                                                    [key], {});\n",
              "        if (!dataTable) return;\n",
              "\n",
              "        const docLinkHtml = 'Like what you see? Visit the ' +\n",
              "          '<a target=\"_blank\" href=https://colab.research.google.com/notebooks/data_table.ipynb>data table notebook</a>'\n",
              "          + ' to learn more about interactive tables.';\n",
              "        element.innerHTML = '';\n",
              "        dataTable['output_type'] = 'display_data';\n",
              "        await google.colab.output.renderOutput(dataTable, element);\n",
              "        const docLink = document.createElement('div');\n",
              "        docLink.innerHTML = docLinkHtml;\n",
              "        element.appendChild(docLink);\n",
              "      }\n",
              "    </script>\n",
              "  </div>\n",
              "\n",
              "\n",
              "    <div id=\"df-6806b494-4967-4044-b9d9-c189e0208c3c\">\n",
              "      <button class=\"colab-df-quickchart\" onclick=\"quickchart('df-6806b494-4967-4044-b9d9-c189e0208c3c')\"\n",
              "                title=\"Suggest charts\"\n",
              "                style=\"display:none;\">\n",
              "\n",
              "<svg xmlns=\"http://www.w3.org/2000/svg\" height=\"24px\"viewBox=\"0 0 24 24\"\n",
              "     width=\"24px\">\n",
              "    <g>\n",
              "        <path d=\"M19 3H5c-1.1 0-2 .9-2 2v14c0 1.1.9 2 2 2h14c1.1 0 2-.9 2-2V5c0-1.1-.9-2-2-2zM9 17H7v-7h2v7zm4 0h-2V7h2v10zm4 0h-2v-4h2v4z\"/>\n",
              "    </g>\n",
              "</svg>\n",
              "      </button>\n",
              "\n",
              "<style>\n",
              "  .colab-df-quickchart {\n",
              "      --bg-color: #E8F0FE;\n",
              "      --fill-color: #1967D2;\n",
              "      --hover-bg-color: #E2EBFA;\n",
              "      --hover-fill-color: #174EA6;\n",
              "      --disabled-fill-color: #AAA;\n",
              "      --disabled-bg-color: #DDD;\n",
              "  }\n",
              "\n",
              "  [theme=dark] .colab-df-quickchart {\n",
              "      --bg-color: #3B4455;\n",
              "      --fill-color: #D2E3FC;\n",
              "      --hover-bg-color: #434B5C;\n",
              "      --hover-fill-color: #FFFFFF;\n",
              "      --disabled-bg-color: #3B4455;\n",
              "      --disabled-fill-color: #666;\n",
              "  }\n",
              "\n",
              "  .colab-df-quickchart {\n",
              "    background-color: var(--bg-color);\n",
              "    border: none;\n",
              "    border-radius: 50%;\n",
              "    cursor: pointer;\n",
              "    display: none;\n",
              "    fill: var(--fill-color);\n",
              "    height: 32px;\n",
              "    padding: 0;\n",
              "    width: 32px;\n",
              "  }\n",
              "\n",
              "  .colab-df-quickchart:hover {\n",
              "    background-color: var(--hover-bg-color);\n",
              "    box-shadow: 0 1px 2px rgba(60, 64, 67, 0.3), 0 1px 3px 1px rgba(60, 64, 67, 0.15);\n",
              "    fill: var(--button-hover-fill-color);\n",
              "  }\n",
              "\n",
              "  .colab-df-quickchart-complete:disabled,\n",
              "  .colab-df-quickchart-complete:disabled:hover {\n",
              "    background-color: var(--disabled-bg-color);\n",
              "    fill: var(--disabled-fill-color);\n",
              "    box-shadow: none;\n",
              "  }\n",
              "\n",
              "  .colab-df-spinner {\n",
              "    border: 2px solid var(--fill-color);\n",
              "    border-color: transparent;\n",
              "    border-bottom-color: var(--fill-color);\n",
              "    animation:\n",
              "      spin 1s steps(1) infinite;\n",
              "  }\n",
              "\n",
              "  @keyframes spin {\n",
              "    0% {\n",
              "      border-color: transparent;\n",
              "      border-bottom-color: var(--fill-color);\n",
              "      border-left-color: var(--fill-color);\n",
              "    }\n",
              "    20% {\n",
              "      border-color: transparent;\n",
              "      border-left-color: var(--fill-color);\n",
              "      border-top-color: var(--fill-color);\n",
              "    }\n",
              "    30% {\n",
              "      border-color: transparent;\n",
              "      border-left-color: var(--fill-color);\n",
              "      border-top-color: var(--fill-color);\n",
              "      border-right-color: var(--fill-color);\n",
              "    }\n",
              "    40% {\n",
              "      border-color: transparent;\n",
              "      border-right-color: var(--fill-color);\n",
              "      border-top-color: var(--fill-color);\n",
              "    }\n",
              "    60% {\n",
              "      border-color: transparent;\n",
              "      border-right-color: var(--fill-color);\n",
              "    }\n",
              "    80% {\n",
              "      border-color: transparent;\n",
              "      border-right-color: var(--fill-color);\n",
              "      border-bottom-color: var(--fill-color);\n",
              "    }\n",
              "    90% {\n",
              "      border-color: transparent;\n",
              "      border-bottom-color: var(--fill-color);\n",
              "    }\n",
              "  }\n",
              "</style>\n",
              "\n",
              "      <script>\n",
              "        async function quickchart(key) {\n",
              "          const quickchartButtonEl =\n",
              "            document.querySelector('#' + key + ' button');\n",
              "          quickchartButtonEl.disabled = true;  // To prevent multiple clicks.\n",
              "          quickchartButtonEl.classList.add('colab-df-spinner');\n",
              "          try {\n",
              "            const charts = await google.colab.kernel.invokeFunction(\n",
              "                'suggestCharts', [key], {});\n",
              "          } catch (error) {\n",
              "            console.error('Error during call to suggestCharts:', error);\n",
              "          }\n",
              "          quickchartButtonEl.classList.remove('colab-df-spinner');\n",
              "          quickchartButtonEl.classList.add('colab-df-quickchart-complete');\n",
              "        }\n",
              "        (() => {\n",
              "          let quickchartButtonEl =\n",
              "            document.querySelector('#df-6806b494-4967-4044-b9d9-c189e0208c3c button');\n",
              "          quickchartButtonEl.style.display =\n",
              "            google.colab.kernel.accessAllowed ? 'block' : 'none';\n",
              "        })();\n",
              "      </script>\n",
              "    </div>\n",
              "\n",
              "    </div>\n",
              "  </div>\n"
            ],
            "application/vnd.google.colaboratory.intrinsic+json": {
              "type": "dataframe",
              "variable_name": "metadata",
              "summary": "{\n  \"name\": \"metadata\",\n  \"rows\": 30445,\n  \"fields\": [\n    {\n      \"column\": \"category\",\n      \"properties\": {\n        \"dtype\": \"object\",\n        \"semantic_type\": \"\",\n        \"description\": \"\"\n      }\n    },\n    {\n      \"column\": \"tech1\",\n      \"properties\": {\n        \"dtype\": \"string\",\n        \"num_unique_values\": 25405,\n        \"samples\": [\n          \" class=\\\"a-keyvalue prodDetTable\\\" role=\\\"presentation\\\">\\n         \\n           \\n           \\n           \\n           <tr>\\n            \\n            \\n              \\n              \\n               \\n                <th class=\\\"a-color-secondary a-size-base prodDetSectionEntry\\\">\\n                  Brand Name\\n                </th>\\n                \\n              \\n            \\n            \\n           \\n            <td class=\\\"a-size-base\\\">\\n              Whirlpool\\n            </td>\\n            \\n           </tr>\\n           \\n           \\n           \\n           <tr>\\n            \\n            \\n              \\n              \\n               \\n                <th class=\\\"a-color-secondary a-size-base prodDetSectionEntry\\\">\\n                  Model Info\\n                </th>\\n                \\n              \\n            \\n            \\n           \\n            <td class=\\\"a-size-base\\\">\\n              WTW7300DW\\n            </td>\\n            \\n           </tr>\\n           \\n           \\n           \\n           <tr>\\n            \\n            \\n              \\n              \\n               \\n                <th class=\\\"a-color-secondary a-size-base prodDetSectionEntry\\\">\\n                  Item Weight\\n                </th>\\n                \\n              \\n            \\n            \\n           \\n            <td class=\\\"a-size-base\\\">\\n              134 pounds\\n            </td>\\n            \\n           </tr>\\n           \\n           \\n           \\n           <tr>\\n            \\n            \\n              \\n              \\n               \\n                <th class=\\\"a-color-secondary a-size-base prodDetSectionEntry\\\">\\n                  Product Dimensions\\n                </th>\\n                \\n              \\n            \\n            \\n           \\n            <td class=\\\"a-size-base\\\">\\n              28 x 28 x 37 inches\\n            </td>\\n            \\n           </tr>\\n           \\n           \\n           \\n           <tr>\\n            \\n            \\n              \\n              \\n               \\n                <th class=\\\"a-color-secondary a-size-base prodDetSectionEntry\\\">\\n                  Item model number\\n                </th>\\n                \\n              \\n            \\n            \\n           \\n            <td class=\\\"a-size-base\\\">\\n              WTW7300DW\\n            </td>\\n            \\n           </tr>\\n           \\n           \\n           \\n           <tr>\\n            \\n            \\n              \\n              \\n               \\n                <th class=\\\"a-color-secondary a-size-base prodDetSectionEntry\\\">\\n                  \\tPart Number\\t\\n                </th>\\n                \\n              \\n            \\n            \\n           \\n            <td class=\\\"a-size-base\\\">\\n              WTW7300DW\\n            </td>\\n            \\n           </tr>\\n           \\n           \\n           \\n           <tr>\\n            \\n            \\n              \\n              \\n               \\n                <th class=\\\"a-color-secondary a-size-base prodDetSectionEntry\\\">\\n                   Access Location \\n                </th>\\n                \\n              \\n            \\n            \\n           \\n            <td class=\\\"a-size-base\\\">\\n              top_load\\n            </td>\\n            \\n           </tr>\\n           \\n           \\n           \\n           <tr>\\n            \\n            \\n              \\n              \\n               \\n                <th class=\\\"a-color-secondary a-size-base prodDetSectionEntry\\\">\\n                  Batteries Included?\\n                </th>\\n                \\n              \\n            \\n            \\n           \\n            <td class=\\\"a-size-base\\\">\\n              No\\n            </td>\\n            \\n           </tr>\\n           \\n           \\n           \\n           <tr>\\n            \\n            \\n              \\n              \\n               \\n                <th class=\\\"a-color-secondary a-size-base prodDetSectionEntry\\\">\\n                  Batteries Required?\\n                </th>\\n                \\n              \\n            \\n            \\n           \\n            <td class=\\\"a-size-base\\\">\\n              No\\n            </td>\\n            \\n           </tr>\\n           \\n           \\n          \\n        \",\n          \" class=\\\"a-keyvalue prodDetTable\\\" role=\\\"presentation\\\">\\n         \\n           \\n           \\n           \\n           <tr>\\n            \\n            \\n              \\n              \\n               \\n                <th class=\\\"a-color-secondary a-size-base prodDetSectionEntry\\\">\\n                  Brand Name\\n                </th>\\n                \\n              \\n            \\n            \\n           \\n            <td class=\\\"a-size-base\\\">\\n              KitchenAid\\n            </td>\\n            \\n           </tr>\\n           \\n           \\n           \\n           <tr>\\n            \\n            \\n              \\n              \\n               \\n                <th class=\\\"a-color-secondary a-size-base prodDetSectionEntry\\\">\\n                  Model Info\\n                </th>\\n                \\n              \\n            \\n            \\n           \\n            <td class=\\\"a-size-base\\\">\\n              KECC604BBL\\n            </td>\\n            \\n           </tr>\\n           \\n           \\n           \\n           <tr>\\n            \\n            \\n              \\n              \\n               \\n                <th class=\\\"a-color-secondary a-size-base prodDetSectionEntry\\\">\\n                  Package Dimensions\\n                </th>\\n                \\n              \\n            \\n            \\n           \\n            <td class=\\\"a-size-base\\\">\\n              34 x 24 x 8 inches\\n            </td>\\n            \\n           </tr>\\n           \\n           \\n           \\n           <tr>\\n            \\n            \\n              \\n              \\n               \\n                <th class=\\\"a-color-secondary a-size-base prodDetSectionEntry\\\">\\n                  Item model number\\n                </th>\\n                \\n              \\n            \\n            \\n           \\n            <td class=\\\"a-size-base\\\">\\n              KECC604BBL\\n            </td>\\n            \\n           </tr>\\n           \\n           \\n           \\n           <tr>\\n            \\n            \\n              \\n              \\n               \\n                <th class=\\\"a-color-secondary a-size-base prodDetSectionEntry\\\">\\n                  \\tPart Number\\t\\n                </th>\\n                \\n              \\n            \\n            \\n           \\n            <td class=\\\"a-size-base\\\">\\n              KECC604BBL\\n            </td>\\n            \\n           </tr>\\n           \\n           \\n           \\n           <tr>\\n            \\n            \\n              \\n              \\n               \\n                <th class=\\\"a-color-secondary a-size-base prodDetSectionEntry\\\">\\n                  Color\\n                </th>\\n                \\n              \\n            \\n            \\n           \\n            <td class=\\\"a-size-base\\\">\\n              black\\n            </td>\\n            \\n           </tr>\\n           \\n           \\n           \\n           <tr>\\n            \\n            \\n              \\n              \\n               \\n                <th class=\\\"a-color-secondary a-size-base prodDetSectionEntry\\\">\\n                   Fuel type \\n                </th>\\n                \\n              \\n            \\n            \\n           \\n            <td class=\\\"a-size-base\\\">\\n              Electric\\n            </td>\\n            \\n           </tr>\\n           \\n           \\n           \\n           <tr>\\n            \\n            \\n              \\n              \\n               \\n                <th class=\\\"a-color-secondary a-size-base prodDetSectionEntry\\\">\\n                  Batteries Included?\\n                </th>\\n                \\n              \\n            \\n            \\n           \\n            <td class=\\\"a-size-base\\\">\\n              No\\n            </td>\\n            \\n           </tr>\\n           \\n           \\n           \\n           <tr>\\n            \\n            \\n              \\n              \\n               \\n                <th class=\\\"a-color-secondary a-size-base prodDetSectionEntry\\\">\\n                  Batteries Required?\\n                </th>\\n                \\n              \\n            \\n            \\n           \\n            <td class=\\\"a-size-base\\\">\\n              No\\n            </td>\\n            \\n           </tr>\\n           \\n           \\n          \\n        \",\n          \" class=\\\"a-keyvalue prodDetTable\\\" role=\\\"presentation\\\">\\n         \\n           \\n           \\n           \\n           <tr>\\n            \\n            \\n              \\n              \\n               \\n                <th class=\\\"a-color-secondary a-size-base prodDetSectionEntry\\\">\\n                  \\tPart Number\\t\\n                </th>\\n                \\n              \\n            \\n            \\n           \\n            <td class=\\\"a-size-base\\\">\\n              61005503\\n            </td>\\n            \\n           </tr>\\n           \\n           \\n           \\n           <tr>\\n            \\n            \\n              \\n              \\n               \\n                <th class=\\\"a-color-secondary a-size-base prodDetSectionEntry\\\">\\n                  Item Weight\\n                </th>\\n                \\n              \\n            \\n            \\n           \\n            <td class=\\\"a-size-base\\\">\\n              3.2 ounces\\n            </td>\\n            \\n           </tr>\\n           \\n           \\n           \\n           <tr>\\n            \\n            \\n              \\n              \\n               \\n                <th class=\\\"a-color-secondary a-size-base prodDetSectionEntry\\\">\\n                  Product Dimensions\\n                </th>\\n                \\n              \\n            \\n            \\n           \\n            <td class=\\\"a-size-base\\\">\\n              18.6 x 6.1 x 4 inches\\n            </td>\\n            \\n           </tr>\\n           \\n           \\n           \\n           <tr>\\n            \\n            \\n              \\n              \\n               \\n                <th class=\\\"a-color-secondary a-size-base prodDetSectionEntry\\\">\\n                  Item model number\\n                </th>\\n                \\n              \\n            \\n            \\n           \\n            <td class=\\\"a-size-base\\\">\\n              CECOMINOD023955\\n            </td>\\n            \\n           </tr>\\n           \\n           \\n           \\n           <tr>\\n            \\n            \\n              \\n              \\n               \\n                <th class=\\\"a-color-secondary a-size-base prodDetSectionEntry\\\">\\n                  Item Package Quantity\\n                </th>\\n                \\n              \\n            \\n            \\n           \\n            <td class=\\\"a-size-base\\\">\\n              1\\n            </td>\\n            \\n           </tr>\\n           \\n           \\n           \\n           <tr>\\n            \\n            \\n              \\n              \\n               \\n                <th class=\\\"a-color-secondary a-size-base prodDetSectionEntry\\\">\\n                  Batteries Included?\\n                </th>\\n                \\n              \\n            \\n            \\n           \\n            <td class=\\\"a-size-base\\\">\\n              No\\n            </td>\\n            \\n           </tr>\\n           \\n           \\n          \\n        \"\n        ],\n        \"semantic_type\": \"\",\n        \"description\": \"\"\n      }\n    },\n    {\n      \"column\": \"description\",\n      \"properties\": {\n        \"dtype\": \"object\",\n        \"semantic_type\": \"\",\n        \"description\": \"\"\n      }\n    },\n    {\n      \"column\": \"fit\",\n      \"properties\": {\n        \"dtype\": \"object\",\n        \"num_unique_values\": 1,\n        \"samples\": [\n          \"\"\n        ],\n        \"semantic_type\": \"\",\n        \"description\": \"\"\n      }\n    },\n    {\n      \"column\": \"title\",\n      \"properties\": {\n        \"dtype\": \"string\",\n        \"num_unique_values\": 29988,\n        \"samples\": [\n          \"2-Pack Replacement General Electric CSHS5UGXBSS Refrigerator Water Filter - Compatible General Electric MSWF Fridge Water Filter Cartridge\"\n        ],\n        \"semantic_type\": \"\",\n        \"description\": \"\"\n      }\n    },\n    {\n      \"column\": \"also_buy\",\n      \"properties\": {\n        \"dtype\": \"object\",\n        \"semantic_type\": \"\",\n        \"description\": \"\"\n      }\n    },\n    {\n      \"column\": \"tech2\",\n      \"properties\": {\n        \"dtype\": \"category\",\n        \"num_unique_values\": 2,\n        \"samples\": [\n          \" class=\\\"a-keyvalue prodDetTable\\\" role=\\\"presentation\\\">\\n         \\n           \\n           \\n           \\n           <tr>\\n            \\n            \\n              \\n              \\n               \\n                <th class=\\\"a-color-secondary a-size-base prodDetSectionEntry\\\">\\n                  Brand Name\\n                </th>\\n                \\n              \\n            \\n            \\n           \\n            <td class=\\\"a-size-base\\\">\\n              Samsung\\n            </td>\\n            \\n           </tr>\\n           \\n           \\n           \\n           <tr>\\n            \\n            \\n              \\n              \\n               \\n                <th class=\\\"a-color-secondary a-size-base prodDetSectionEntry\\\">\\n                  Item model number\\n                </th>\\n                \\n              \\n            \\n            \\n           \\n            <td class=\\\"a-size-base\\\">\\n              SKK-BB\\n            </td>\\n            \\n           </tr>\\n           \\n           \\n           \\n           <tr>\\n            \\n            \\n              \\n              \\n               \\n                <th class=\\\"a-color-secondary a-size-base prodDetSectionEntry\\\">\\n                  Item Weight\\n                </th>\\n                \\n              \\n            \\n            \\n           \\n            <td class=\\\"a-size-base\\\">\\n              2.55 pounds\\n            </td>\\n            \\n           </tr>\\n           \\n           \\n           \\n           <tr>\\n            \\n            \\n              \\n              \\n               \\n                <th class=\\\"a-color-secondary a-size-base prodDetSectionEntry\\\">\\n                  Product Dimensions\\n                </th>\\n                \\n              \\n            \\n            \\n           \\n            <td class=\\\"a-size-base\\\">\\n              8.4 x 19.5 x 2.5 inches\\n            </td>\\n            \\n           </tr>\\n           \\n           \\n           \\n           <tr>\\n            \\n            \\n              \\n              \\n               \\n                <th class=\\\"a-color-secondary a-size-base prodDetSectionEntry\\\">\\n                  Item Dimensions  L x W x H\\n                </th>\\n                \\n              \\n            \\n            \\n           \\n            <td class=\\\"a-size-base\\\">\\n              8.37 x 19.5 x 2.5 inches\\n            </td>\\n            \\n           </tr>\\n           \\n           \\n           \\n           <tr>\\n            \\n            \\n              \\n              \\n               \\n                <th class=\\\"a-color-secondary a-size-base prodDetSectionEntry\\\">\\n                  Color\\r\\n\\n                </th>\\n                \\n              \\n            \\n            \\n           \\n            <td class=\\\"a-size-base\\\">\\n              Stainless Steel / Grey\\n            </td>\\n            \\n           </tr>\\n           \\n           \\n          \\n        \"\n        ],\n        \"semantic_type\": \"\",\n        \"description\": \"\"\n      }\n    },\n    {\n      \"column\": \"brand\",\n      \"properties\": {\n        \"dtype\": \"category\",\n        \"num_unique_values\": 2762,\n        \"samples\": [\n          \"Vent-A-Hood\"\n        ],\n        \"semantic_type\": \"\",\n        \"description\": \"\"\n      }\n    },\n    {\n      \"column\": \"feature\",\n      \"properties\": {\n        \"dtype\": \"object\",\n        \"semantic_type\": \"\",\n        \"description\": \"\"\n      }\n    },\n    {\n      \"column\": \"rank\",\n      \"properties\": {\n        \"dtype\": \"object\",\n        \"semantic_type\": \"\",\n        \"description\": \"\"\n      }\n    },\n    {\n      \"column\": \"also_view\",\n      \"properties\": {\n        \"dtype\": \"object\",\n        \"semantic_type\": \"\",\n        \"description\": \"\"\n      }\n    },\n    {\n      \"column\": \"details\",\n      \"properties\": {\n        \"dtype\": \"object\",\n        \"semantic_type\": \"\",\n        \"description\": \"\"\n      }\n    },\n    {\n      \"column\": \"main_cat\",\n      \"properties\": {\n        \"dtype\": \"category\",\n        \"num_unique_values\": 28,\n        \"samples\": [\n          \"Health &amp; Personal Care\"\n        ],\n        \"semantic_type\": \"\",\n        \"description\": \"\"\n      }\n    },\n    {\n      \"column\": \"similar_item\",\n      \"properties\": {\n        \"dtype\": \"string\",\n        \"num_unique_values\": 17247,\n        \"samples\": [\n          \" class=\\\"a-bordered a-horizontal-stripes  a-spacing-extra-large a-size-base comparison_table\\\">\\n\\n\\n\\n            \\n            \\n            \\n            \\n            \\n            <tr class=\\\"comparison_table_image_row\\\">\\n                <td class=\\\"comparison_table_first_col\\\"></td>\\n\\n\\n                <th class=\\\"comparison_image_title_cell\\\" role=\\\"columnheader\\\">\\n                    <div class=\\\"a-row a-spacing-top-micro\\\">\\n                        <center>\\n                             <img alt=\\\"Whirlpool 8547157  Belt - Drive\\\" src=\\\"https://images-na.ssl-images-amazon.com/images/I/41StGGY5shL._SL500_AC_SS350_.jpg\\\" id=\\\"comparison_image\\\">\\n                        </center>\\n                    </div>\\n                    <div class=\\\"a-row a-spacing-top-small\\\">\\n                        <div id=\\\"comparison_title\\\" class=\\\"a-section a-spacing-none\\\">\\n                            <span aria-hidden=\\\"true\\\" class=\\\"a-size-base a-color-base a-text-bold\\\">\\n                                This item\\n                            </span>\\n                            <span aria-hidden=\\\"true\\\" class=\\\"a-size-base a-color-base\\\">Whirlpool 8547157  Belt - Drive</span>\\n                        </div>\\n                        \\n                        \\n                    </div>\\n                </th>\\n\\n\\n                \\n                    <th class=\\\"comparison_image_title_cell comparable_item0\\\" role=\\\"columnheader\\\">\\n                        <a class=\\\"a-link-normal\\\" target=\\\"_self\\\" rel=\\\"noopener\\\" href=\\\"/dp/B002DUCEMW/ref=psdc_13397451_t1_B00LHR4XIA\\\">\\n                          <div class=\\\"a-row a-spacing-top-micro\\\">\\n                            <center>\\n                                <img alt=\\\"\\\" src=\\\"https://images-na.ssl-images-amazon.com/images/I/41i0V5MD8OL._SL500_AC_SS350_.jpg\\\" aria-hidden=\\\"true\\\" id=\\\"comparison_image0\\\">\\n                            </center>\\n                          </div>\\n                          <div id=\\\"comparison_title0\\\" class=\\\"a-row a-spacing-top-small\\\">\\n                            <span class=\\\"a-size-base\\\">Whirlpool 4392067RC 27-Inch Dryer Repair Kit</span>\\n                          </div>\\n                        </a>\\n                        \\n                        \\n                    </th>\\n                \\n                    <th class=\\\"comparison_image_title_cell comparable_item1\\\" role=\\\"columnheader\\\">\\n                        <a class=\\\"a-link-normal\\\" target=\\\"_self\\\" rel=\\\"noopener\\\" href=\\\"/dp/B00M75VU8W/ref=psdc_13397451_t2_B00LHR4XIA\\\">\\n                          <div class=\\\"a-row a-spacing-top-micro\\\">\\n                            <center>\\n                                <img alt=\\\"\\\" src=\\\"https://images-na.ssl-images-amazon.com/images/I/4139L532wYL._SL500_AC_SS350_.jpg\\\" aria-hidden=\\\"true\\\" id=\\\"comparison_image1\\\">\\n                            </center>\\n                          </div>\\n                          <div id=\\\"comparison_title1\\\" class=\\\"a-row a-spacing-top-small\\\">\\n                            <span class=\\\"a-size-base\\\">661570 - OEM FACTORY ORIGINAL WHIRLPOOL KENMORE MAYTAG DRYER BELT (Length 93 1/2 , Width 1/4, 4 Ribs)</span>\\n                          </div>\\n                        </a>\\n                        \\n                        \\n                    </th>\\n                \\n                    <th class=\\\"comparison_image_title_cell comparable_item2\\\" role=\\\"columnheader\\\">\\n                        <a class=\\\"a-link-normal\\\" target=\\\"_self\\\" rel=\\\"noopener\\\" href=\\\"/dp/B078GMHD1D/ref=psdc_13397451_t3_B00LHR4XIA\\\">\\n                          <div class=\\\"a-row a-spacing-top-micro\\\">\\n                            <center>\\n                                <img alt=\\\"\\\" src=\\\"https://images-na.ssl-images-amazon.com/images/I/511sQJFSIOL._SL500_AC_SS350_.jpg\\\" aria-hidden=\\\"true\\\" id=\\\"comparison_image2\\\">\\n                            </center>\\n                          </div>\\n                          <div id=\\\"comparison_title2\\\" class=\\\"a-row a-spacing-top-small\\\">\\n                            <span class=\\\"a-size-base\\\">Ultra Durable W10547292 Dryer Idler Pulley Replacement Part by Blue Stars - Exact Fit for Whirlpool Maytag Kenmore Dryer - Replaces 8547160 W10547292 WPW10547292</span>\\n                          </div>\\n                        </a>\\n                        \\n                        \\n                    </th>\\n                \\n                    <th class=\\\"comparison_image_title_cell comparable_item3\\\" role=\\\"columnheader\\\">\\n                        <a class=\\\"a-link-normal\\\" target=\\\"_self\\\" rel=\\\"noopener\\\" href=\\\"/dp/B00HNEJHRS/ref=psdc_13397451_t4_B00LHR4XIA\\\">\\n                          <div class=\\\"a-row a-spacing-top-micro\\\">\\n                            <center>\\n                                <img alt=\\\"\\\" src=\\\"https://images-na.ssl-images-amazon.com/images/I/31qwRzvB3qL._SL500_AC_SS350_.jpg\\\" aria-hidden=\\\"true\\\" id=\\\"comparison_image3\\\">\\n                            </center>\\n                          </div>\\n                          <div id=\\\"comparison_title3\\\" class=\\\"a-row a-spacing-top-small\\\">\\n                            <span class=\\\"a-size-base\\\">Whirlpool Whirlpool W10547290 Pulley w/ bracket</span>\\n                          </div>\\n                        </a>\\n                        \\n                        \\n                    </th>\\n                \\n                    <th class=\\\"comparison_image_title_cell comparable_item4\\\" role=\\\"columnheader\\\">\\n                        <a class=\\\"a-link-normal\\\" target=\\\"_self\\\" rel=\\\"noopener\\\" href=\\\"/dp/B074Z198PP/ref=psdc_13397451_t5_B00LHR4XIA\\\">\\n                          <div class=\\\"a-row a-spacing-top-micro\\\">\\n                            <center>\\n                                <img alt=\\\"\\\" src=\\\"https://images-na.ssl-images-amazon.com/images/I/415fo80kbVL._SL500_AC_SS350_.jpg\\\" aria-hidden=\\\"true\\\" id=\\\"comparison_image4\\\">\\n                            </center>\\n                          </div>\\n                          <div id=\\\"comparison_title4\\\" class=\\\"a-row a-spacing-top-small\\\">\\n                            <span class=\\\"a-size-base\\\">Ultra Durable 279640 Dryer Idler Pulley Replacement part by Blue Stars - Exact Fit for Whirlpool & Kenmore dryer - Replaces 3388672, 697692, AP3094197, W10468057</span>\\n                          </div>\\n                        </a>\\n                        \\n                        \\n                    </th>\\n                \\n            </tr>\\n\\n\\n            <tr></tr>\\n\\n\\n            \\n            \\n            <tr>\\n                <td class=\\\"comparison_table_first_col\\\"></td>\\n\\n\\n                <td class=\\\"comparison_add_to_cart_button\\\">\\n                    \\n                        \\n                        \\n                        \\n                            <span id=\\\"comparison_add_to_cart_button\\\" class=\\\"a-button a-spacing-small a-button-primary\\\"><span class=\\\"a-button-inner\\\"><a id=\\\"comparison_add_to_cart_button-announce\\\" href=\\\"/gp/item-dispatch/ref=psdc_13397451_a0_B00LHR4XIA?ie=UTF8&amp;itemCount=1&amp;nodeID=228013&amp;offeringID.1=2c6q57eUawA5GjgVwZ32QWnwQKvO0%252FQnLX0rdDSPMn0XAeG%252FYMgBKp2PmybEbXQdNBXwdpXCzpFc884V1L24xVhi1Tg5kOARjXLKGCpvHlD%252F%252FbXWzyukb368wPM8kyZLMtNk9FDzvwnG9u7ujp7Qsg%253D%253D&amp;storeID=hi&amp;session-id=144-6797202-5096731&amp;submit.addToCart=addToCart&amp;signInToHUC=0\\\" class=\\\"a-button-text\\\" role=\\\"button\\\">Add to Cart</a></span></span>\\n                        \\n                    \\n                </td>\\n\\n\\n                \\n                    <td class=\\\"a-text-left comparison_add_to_cart_button comparable_item0\\\">\\n                        \\n                            \\n                            \\n                                <span id=\\\"comparison_add_to_cart_button0\\\" class=\\\"a-button a-spacing-small a-button-primary\\\"><span class=\\\"a-button-inner\\\"><a id=\\\"comparison_add_to_cart_button0-announce\\\" href=\\\"/gp/item-dispatch/ref=psdc_13397451_a1_B00LHR4XIA?ie=UTF8&amp;itemCount=1&amp;nodeID=228013&amp;offeringID.1=azLvkM97OMkVFUlqKaQJTZCSxR%252FdWYHpSNfJ6eNGD6Sp6vqdOxWB0nWSJwoFmeY%252BgBplGrBxnVPX%252Fs0%252Fsbe1LfJ8e4pI9VxlfgN0pYH0BxdDUSDdACxTRp3%252FZkGqRVU5fJImTPSSD0QE5hpWng4NWoxKoJX%252FscRm&amp;storeID=hi&amp;session-id=144-6797202-5096731&amp;submit.addToCart=addToCart&amp;signInToHUC=0\\\" class=\\\"a-button-text\\\" role=\\\"button\\\">Add to Cart</a></span></span>\\n                            \\n                        \\n                    </td>\\n                \\n                    <td class=\\\"a-text-left comparison_add_to_cart_button comparable_item1\\\">\\n                        \\n                            \\n                            \\n                                <span id=\\\"comparison_add_to_cart_button1\\\" class=\\\"a-button a-spacing-small a-button-primary\\\"><span class=\\\"a-button-inner\\\"><a id=\\\"comparison_add_to_cart_button1-announce\\\" href=\\\"/gp/item-dispatch/ref=psdc_13397451_a2_B00LHR4XIA?ie=UTF8&amp;itemCount=1&amp;nodeID=228013&amp;offeringID.1=HXtvNtndyZAbyiZdXLLUgxR%252BKoK5bw%252FKGt%252FyZhdU%252F%252FEFG8ECCBoqgHe4INIs3OKdEAkkz6syWk6QdePZ%252BEUTL6yBq5RIWblAqDfeql9PWgTgvDAnIAzTbGou%252F8248wpvVrfaqSpp6SDB3Vr884CIcg%253D%253D&amp;storeID=hi&amp;session-id=144-6797202-5096731&amp;submit.addToCart=addToCart&amp;signInToHUC=0\\\" class=\\\"a-button-text\\\" role=\\\"button\\\">Add to Cart</a></span></span>\\n                            \\n                        \\n                    </td>\\n                \\n                    <td class=\\\"a-text-left comparison_add_to_cart_button comparable_item2\\\">\\n                        \\n                            \\n                            \\n                                <span id=\\\"comparison_add_to_cart_button2\\\" class=\\\"a-button a-spacing-small a-button-primary\\\"><span class=\\\"a-button-inner\\\"><a id=\\\"comparison_add_to_cart_button2-announce\\\" href=\\\"/gp/item-dispatch/ref=psdc_13397451_a3_B00LHR4XIA?ie=UTF8&amp;itemCount=1&amp;nodeID=228013&amp;offeringID.1=2c6q57eUawCaVLVOJyX42Uir9eaLLHYnnnH%252BGXTUD2nWCJZVTfqo%252Fuz2XAQTvW9vmdwVnNXdsIU9cnGLLLpMiO221K7NujY2xEmet0%252Ba7WqhjR3bLntVQVq8uQsFlBEVZi0OOC8vkbTexjohBcmQtJnMGacFPAur&amp;storeID=hi&amp;session-id=144-6797202-5096731&amp;submit.addToCart=addToCart&amp;signInToHUC=0\\\" class=\\\"a-button-text\\\" role=\\\"button\\\">Add to Cart</a></span></span>\\n                            \\n                        \\n                    </td>\\n                \\n                    <td class=\\\"a-text-left comparison_add_to_cart_button comparable_item3\\\">\\n                        \\n                            \\n                            \\n                                <span id=\\\"comparison_add_to_cart_button3\\\" class=\\\"a-button a-spacing-small a-button-primary\\\"><span class=\\\"a-button-inner\\\"><a id=\\\"comparison_add_to_cart_button3-announce\\\" href=\\\"/gp/item-dispatch/ref=psdc_13397451_a4_B00LHR4XIA?ie=UTF8&amp;itemCount=1&amp;nodeID=228013&amp;offeringID.1=yTgzrmDzS0a8YSJnAOOZ6LoVpdaaF58Dc0cLkWl7t3nyan0atNndeLu%252B2%252F7RK8Qa7Lvsae9R28pHndQ4EKjDqw%252Fhh1ZE%252BPin%252BhRGCEB070kAX6M%252B1fXI3C%252BgDcr0A3OFrZBvI0OB8UE00RKsKHzVaHWc5Ul1%252Bkv1&amp;storeID=hi&amp;session-id=144-6797202-5096731&amp;submit.addToCart=addToCart&amp;signInToHUC=0\\\" class=\\\"a-button-text\\\" role=\\\"button\\\">Add to Cart</a></span></span>\\n                            \\n                        \\n                    </td>\\n                \\n                    <td class=\\\"a-text-left comparison_add_to_cart_button comparable_item4\\\">\\n                        \\n                            \\n                            \\n                                <span id=\\\"comparison_add_to_cart_button4\\\" class=\\\"a-button a-spacing-small a-button-primary\\\"><span class=\\\"a-button-inner\\\"><a id=\\\"comparison_add_to_cart_button4-announce\\\" href=\\\"/gp/item-dispatch/ref=psdc_13397451_a5_B00LHR4XIA?ie=UTF8&amp;itemCount=1&amp;nodeID=228013&amp;offeringID.1=ZHpINSRw6sW9OrKtSOYaKLe503jYhvdnwbDKh8Ei0LpOx%252ForYwOuoGTxnBuDC66%252FworuT3k6uba42%252BBomIABsSNdCLyx%252BHnV1zVBiMqNVfiL0WIAbkdCjyA3EIxQVjMoSWRIDHLzcqpM8KMkJI%252BcTfs%252B91gx7nCb&amp;storeID=hi&amp;session-id=144-6797202-5096731&amp;submit.addToCart=addToCart&amp;signInToHUC=0\\\" class=\\\"a-button-text\\\" role=\\\"button\\\">Add to Cart</a></span></span>\\n                            \\n                        \\n                    </td>\\n                \\n            </tr>\\n\\n\\n            <tr id=\\\"comparison_custormer_rating_row\\\">\\n                \\n                \\n                \\n                \\n\\n                <th class=\\\"comparison_attribute_name_column comparison_table_first_col\\\" role=\\\"rowheader\\\">\\n                    <span class=\\\"a-size-base a-color-base\\\">Customer Rating</span>\\n                </th>\\n\\n\\n                <td class=\\\"comparison_baseitem_column\\\">\\n                    \\n                    \\n                    \\n                    <span>\\n                        <span class=\\\"a-declarative\\\" data-action=\\\"a-popover\\\" data-a-popover=\\\"{&quot;max-width&quot;:&quot;700&quot;,&quot;closeButton&quot;:&quot;false&quot;,&quot;position&quot;:&quot;triggerBottom&quot;,&quot;url&quot;:&quot; /gp/customer-reviews/widgets/average-customer-review/popover/ref=acr_dpComparsion__popover?contextId=dpComparsion&amp;asin=B00LHR4XIA &quot;,&quot;restoreFocusOnHide&quot;:&quot;false&quot;}\\\">\\n                            <i class=\\\"a-icon a-icon-star a-star-4-5 a-spacing-none\\\"><span class=\\\"a-icon-alt\\\">4 out of 5 stars</span></i>\\n                        </span>\\n                        <a class=\\\"a-link-normal\\\" target=\\\"_self\\\" rel=\\\"noopener\\\" href=\\\"/product-reviews/B00LHR4XIA/ref=psdc_13397451_r0_B00LHR4XIA?_encoding=UTF8&amp;showViewpoints=1\\\">(14)</a>\\n                        <span class=\\\"a-letter-space\\\"></span>\\n                    </span>\\n                </td>\\n\\n\\n                \\n                    <td class=\\\"comparison_sim_items_column comparable_item0\\\">\\n                        \\n                        \\n                        \\n                        <span>\\n                            <span class=\\\"a-declarative\\\" data-action=\\\"a-popover\\\" data-a-popover=\\\"{&quot;max-width&quot;:&quot;700&quot;,&quot;closeButton&quot;:&quot;false&quot;,&quot;position&quot;:&quot;triggerBottom&quot;,&quot;url&quot;:&quot; /gp/customer-reviews/widgets/average-customer-review/popover/ref=acr_dpComparsion__popover?contextId=dpComparsion&amp;asin=B002DUCEMW &quot;,&quot;restoreFocusOnHide&quot;:&quot;false&quot;}\\\">\\n                                <i class=\\\"a-icon a-icon-star a-star-4-5 a-spacing-none\\\"><span class=\\\"a-icon-alt\\\">4 out of 5 stars</span></i>\\n                            </span>\\n                            <a class=\\\"a-link-normal\\\" target=\\\"_self\\\" rel=\\\"noopener\\\" href=\\\"/product-reviews/B002DUCEMW/ref=psdc_13397451_r1_B00LHR4XIA?_encoding=UTF8&amp;showViewpoints=1\\\">(570)</a>\\n                            <span class=\\\"a-letter-space\\\"></span>\\n                        </span>\\n                    </td>\\n                \\n                    <td class=\\\"comparison_sim_items_column comparable_item1\\\">\\n                        \\n                        \\n                        \\n                        <span>\\n                            <span class=\\\"a-declarative\\\" data-action=\\\"a-popover\\\" data-a-popover=\\\"{&quot;max-width&quot;:&quot;700&quot;,&quot;closeButton&quot;:&quot;false&quot;,&quot;position&quot;:&quot;triggerBottom&quot;,&quot;url&quot;:&quot; /gp/customer-reviews/widgets/average-customer-review/popover/ref=acr_dpComparsion__popover?contextId=dpComparsion&amp;asin=B00M75VU8W &quot;,&quot;restoreFocusOnHide&quot;:&quot;false&quot;}\\\">\\n                                <i class=\\\"a-icon a-icon-star a-star-5 a-spacing-none\\\"><span class=\\\"a-icon-alt\\\">5 out of 5 stars</span></i>\\n                            </span>\\n                            <a class=\\\"a-link-normal\\\" target=\\\"_self\\\" rel=\\\"noopener\\\" href=\\\"/product-reviews/B00M75VU8W/ref=psdc_13397451_r2_B00LHR4XIA?_encoding=UTF8&amp;showViewpoints=1\\\">(69)</a>\\n                            <span class=\\\"a-letter-space\\\"></span>\\n                        </span>\\n                    </td>\\n                \\n                    <td class=\\\"comparison_sim_items_column comparable_item2\\\">\\n                        \\n                        \\n                        \\n                        <span>\\n                            <span class=\\\"a-declarative\\\" data-action=\\\"a-popover\\\" data-a-popover=\\\"{&quot;max-width&quot;:&quot;700&quot;,&quot;closeButton&quot;:&quot;false&quot;,&quot;position&quot;:&quot;triggerBottom&quot;,&quot;url&quot;:&quot; /gp/customer-reviews/widgets/average-customer-review/popover/ref=acr_dpComparsion__popover?contextId=dpComparsion&amp;asin=B078GMHD1D &quot;,&quot;restoreFocusOnHide&quot;:&quot;false&quot;}\\\">\\n                                <i class=\\\"a-icon a-icon-star a-star-4 a-spacing-none\\\"><span class=\\\"a-icon-alt\\\">4 out of 5 stars</span></i>\\n                            </span>\\n                            <a class=\\\"a-link-normal\\\" target=\\\"_self\\\" rel=\\\"noopener\\\" href=\\\"/product-reviews/B078GMHD1D/ref=psdc_13397451_r3_B00LHR4XIA?_encoding=UTF8&amp;showViewpoints=1\\\">(32)</a>\\n                            <span class=\\\"a-letter-space\\\"></span>\\n                        </span>\\n                    </td>\\n                \\n                    <td class=\\\"comparison_sim_items_column comparable_item3\\\">\\n                        \\n                        \\n                        \\n                        <span>\\n                            <span class=\\\"a-declarative\\\" data-action=\\\"a-popover\\\" data-a-popover=\\\"{&quot;max-width&quot;:&quot;700&quot;,&quot;closeButton&quot;:&quot;false&quot;,&quot;position&quot;:&quot;triggerBottom&quot;,&quot;url&quot;:&quot; /gp/customer-reviews/widgets/average-customer-review/popover/ref=acr_dpComparsion__popover?contextId=dpComparsion&amp;asin=B00HNEJHRS &quot;,&quot;restoreFocusOnHide&quot;:&quot;false&quot;}\\\">\\n                                <i class=\\\"a-icon a-icon-star a-star-5 a-spacing-none\\\"><span class=\\\"a-icon-alt\\\">5 out of 5 stars</span></i>\\n                            </span>\\n                            <a class=\\\"a-link-normal\\\" target=\\\"_self\\\" rel=\\\"noopener\\\" href=\\\"/product-reviews/B00HNEJHRS/ref=psdc_13397451_r4_B00LHR4XIA?_encoding=UTF8&amp;showViewpoints=1\\\">(135)</a>\\n                            <span class=\\\"a-letter-space\\\"></span>\\n                        </span>\\n                    </td>\\n                \\n                    <td class=\\\"comparison_sim_items_column comparable_item4\\\">\\n                        \\n                        \\n                        \\n                        <span>\\n                            <span class=\\\"a-declarative\\\" data-action=\\\"a-popover\\\" data-a-popover=\\\"{&quot;max-width&quot;:&quot;700&quot;,&quot;closeButton&quot;:&quot;false&quot;,&quot;position&quot;:&quot;triggerBottom&quot;,&quot;url&quot;:&quot; /gp/customer-reviews/widgets/average-customer-review/popover/ref=acr_dpComparsion__popover?contextId=dpComparsion&amp;asin=B074Z198PP &quot;,&quot;restoreFocusOnHide&quot;:&quot;false&quot;}\\\">\\n                                <i class=\\\"a-icon a-icon-star a-star-4 a-spacing-none\\\"><span class=\\\"a-icon-alt\\\">4 out of 5 stars</span></i>\\n                            </span>\\n                            <a class=\\\"a-link-normal\\\" target=\\\"_self\\\" rel=\\\"noopener\\\" href=\\\"/product-reviews/B074Z198PP/ref=psdc_13397451_r5_B00LHR4XIA?_encoding=UTF8&amp;showViewpoints=1\\\">(170)</a>\\n                            <span class=\\\"a-letter-space\\\"></span>\\n                        </span>\\n                    </td>\\n                \\n            </tr>\\n\\n\\n            <tr id=\\\"comparison_price_row\\\">\\n                <th class=\\\"comparison_attribute_name_column comparison_table_first_col\\\" role=\\\"rowheader\\\">\\n                    <span class=\\\"a-size-base a-color-base\\\">Price</span>\\n                </th>\\n\\n\\n                <td class=\\\"comparison_baseitem_column\\\">\\n                    \\n                        \\n                        \\n                        \\n                        \\n                            \\n                                \\n                                    <span class=\\\"a-price\\\" data-a-size=\\\"l\\\" data-a-color=\\\"base\\\"><span class=\\\"a-offscreen\\\">$14.98</span><span aria-hidden=\\\"true\\\"><span class=\\\"a-price-symbol\\\">$</span><span class=\\\"a-price-whole\\\">14<span class=\\\"a-price-decimal\\\">\\u0000</span></span><span class=\\\"a-price-fraction\\\">98</span></span></span>\\n                                \\n                                \\n                            \\n                        \\n                    \\n                </td>\\n\\n\\n                \\n                    <td class=\\\"comparison_sim_items_column comparable_item0\\\">\\n                    \\n                        \\n                        \\n                        \\n                            \\n                                \\n                                    <span class=\\\"a-price\\\" data-a-size=\\\"l\\\" data-a-color=\\\"base\\\"><span class=\\\"a-offscreen\\\">$24.31</span><span aria-hidden=\\\"true\\\"><span class=\\\"a-price-symbol\\\">$</span><span class=\\\"a-price-whole\\\">24<span class=\\\"a-price-decimal\\\">\\u0000</span></span><span class=\\\"a-price-fraction\\\">31</span></span></span>\\n                                \\n                                \\n                            \\n                        \\n                    \\n                    </td>\\n                \\n                    <td class=\\\"comparison_sim_items_column comparable_item1\\\">\\n                    \\n                        \\n                        \\n                        \\n                            \\n                                \\n                                    <span class=\\\"a-price\\\" data-a-size=\\\"l\\\" data-a-color=\\\"base\\\"><span class=\\\"a-offscreen\\\">$13.65</span><span aria-hidden=\\\"true\\\"><span class=\\\"a-price-symbol\\\">$</span><span class=\\\"a-price-whole\\\">13<span class=\\\"a-price-decimal\\\">\\u0000</span></span><span class=\\\"a-price-fraction\\\">65</span></span></span>\\n                                \\n                                \\n                            \\n                        \\n                    \\n                    </td>\\n                \\n                    <td class=\\\"comparison_sim_items_column comparable_item2\\\">\\n                    \\n                        \\n                        \\n                        \\n                            \\n                                \\n                                    <span class=\\\"a-price\\\" data-a-size=\\\"l\\\" data-a-color=\\\"base\\\"><span class=\\\"a-offscreen\\\">$11.47</span><span aria-hidden=\\\"true\\\"><span class=\\\"a-price-symbol\\\">$</span><span class=\\\"a-price-whole\\\">11<span class=\\\"a-price-decimal\\\">\\u0000</span></span><span class=\\\"a-price-fraction\\\">47</span></span></span>\\n                                \\n                                \\n                            \\n                        \\n                    \\n                    </td>\\n                \\n                    <td class=\\\"comparison_sim_items_column comparable_item3\\\">\\n                    \\n                        \\n                        \\n                        \\n                            \\n                                \\n                                    <span class=\\\"a-price\\\" data-a-size=\\\"l\\\" data-a-color=\\\"base\\\"><span class=\\\"a-offscreen\\\">$12.20</span><span aria-hidden=\\\"true\\\"><span class=\\\"a-price-symbol\\\">$</span><span class=\\\"a-price-whole\\\">12<span class=\\\"a-price-decimal\\\">\\u0000</span></span><span class=\\\"a-price-fraction\\\">20</span></span></span>\\n                                \\n                                \\n                            \\n                        \\n                    \\n                    </td>\\n                \\n                    <td class=\\\"comparison_sim_items_column comparable_item4\\\">\\n                    \\n                        \\n                        \\n                        \\n                            \\n                                \\n                                    <span class=\\\"a-price\\\" data-a-size=\\\"l\\\" data-a-color=\\\"base\\\"><span class=\\\"a-offscreen\\\">$6.87</span><span aria-hidden=\\\"true\\\"><span class=\\\"a-price-symbol\\\">$</span><span class=\\\"a-price-whole\\\">6<span class=\\\"a-price-decimal\\\">\\u0000</span></span><span class=\\\"a-price-fraction\\\">87</span></span></span>\\n                                \\n                                \\n                            \\n                        \\n                    \\n                    </td>\\n                \\n            </tr>\\n\\n\\n    \\n                <tr id=\\\"comparison_shipping_info_row\\\">\\n                    <th class=\\\"comparison_attribute_name_column comparison_table_first_col\\\" role=\\\"rowheader\\\">\\n                        <span class=\\\"a-size-base a-color-base\\\">Shipping</span>\\n                    </th>\\n\\n    \\n                    <td class=\\\"comparison_baseitem_column\\\">\\n                        \\n                            \\n                            \\n                            \\n                                <span class=\\\"a-size-base a-color-base\\\">Eligible for FREE Shipping</span>\\n                            \\n                            \\n                            \\n                            \\n                            \\n                        \\n                    </td>\\n\\n    \\n                    \\n                        <td class=\\\"comparison_sim_items_column comparable_item0\\\">\\n                            \\n                                \\n                                \\n                                    <span class=\\\"a-size-base a-color-base\\\">Eligible for FREE Shipping</span>\\n                                \\n                                \\n                                \\n                                \\n                                \\n                            \\n                        </td>\\n                    \\n                        <td class=\\\"comparison_sim_items_column comparable_item1\\\">\\n                            \\n                                \\n                                \\n                                    <span class=\\\"a-size-base a-color-base\\\">Eligible for FREE Shipping</span>\\n                                \\n                                \\n                                \\n                                \\n                                \\n                            \\n                        </td>\\n                    \\n                        <td class=\\\"comparison_sim_items_column comparable_item2\\\">\\n                            \\n                                \\n                                \\n                                    <span class=\\\"a-size-base a-color-base\\\">Eligible for FREE Shipping</span>\\n                                \\n                                \\n                                \\n                                \\n                                \\n                            \\n                        </td>\\n                    \\n                        <td class=\\\"comparison_sim_items_column comparable_item3\\\">\\n                            \\n                                \\n                                \\n                                    <span class=\\\"a-size-base a-color-base\\\">Eligible for FREE Shipping</span>\\n                                \\n                                \\n                                \\n                                \\n                                \\n                            \\n                        </td>\\n                    \\n                        <td class=\\\"comparison_sim_items_column comparable_item4\\\">\\n                            \\n                                \\n                                \\n                                    <span class=\\\"a-size-base a-color-base\\\">Eligible for FREE Shipping</span>\\n                                \\n                                \\n                                \\n                                \\n                                \\n                            \\n                        </td>\\n                    \\n                </tr>\\n\\n\\n\\n            <tr id=\\\"comparison_sold_by_row\\\">\\n                <th class=\\\"comparison_attribute_name_column comparison_table_first_col\\\" role=\\\"rowheader\\\">\\n                    <span class=\\\"a-size-base a-color-base\\\">Sold By</span>\\n                </th>\\n\\n  \\n                <td class=\\\"comparison_baseitem_column\\\">\\n                    \\n                        \\n                        \\n                        \\n                            <a class=\\\"a-spacing-top-small a-link-normal\\\" target=\\\"_self\\\" rel=\\\"noopener\\\" href=\\\"/gp/help/seller/at-a-glance.html/ref=psdc_13397451_s0_B00LHR4XIA?ie=UTF8&amp;seller=AWCKQNL5QHN74&amp;isAmazonFulfilled=1\\\">Gary's_Appliance</a>\\n                        \\n                     \\n                </td>\\n\\n\\n                \\n                    <td class=\\\"comparison_sim_items_column comparable_item0\\\">\\n                         \\n                            \\n                         \\n                             <a class=\\\"a-spacing-top-small a-link-normal\\\" target=\\\"_self\\\" rel=\\\"noopener\\\" href=\\\"/gp/help/seller/at-a-glance.html/ref=psdc_13397451_s1_B00LHR4XIA?ie=UTF8&amp;seller=A2RIUGF20T9AAN\\\">PartsFast!</a>\\n                         \\n                         \\n                     </td>\\n                \\n                    <td class=\\\"comparison_sim_items_column comparable_item1\\\">\\n                         \\n                            \\n                         \\n                             <a class=\\\"a-spacing-top-small a-link-normal\\\" target=\\\"_self\\\" rel=\\\"noopener\\\" href=\\\"/gp/help/seller/at-a-glance.html/ref=psdc_13397451_s2_B00LHR4XIA?ie=UTF8&amp;seller=AEF444GE8DM1V&amp;isAmazonFulfilled=1\\\">Free_Shipping_LLC</a>\\n                         \\n                         \\n                     </td>\\n                \\n                    <td class=\\\"comparison_sim_items_column comparable_item2\\\">\\n                         \\n                            \\n                         \\n                             <a class=\\\"a-spacing-top-small a-link-normal\\\" target=\\\"_self\\\" rel=\\\"noopener\\\" href=\\\"/gp/help/seller/at-a-glance.html/ref=psdc_13397451_s3_B00LHR4XIA?ie=UTF8&amp;seller=A3K0MKFIP79CN&amp;isAmazonFulfilled=1\\\">Blue Stars LLC</a>\\n                         \\n                         \\n                     </td>\\n                \\n                    <td class=\\\"comparison_sim_items_column comparable_item3\\\">\\n                         \\n                            \\n                         \\n                             <a class=\\\"a-spacing-top-small a-link-normal\\\" target=\\\"_self\\\" rel=\\\"noopener\\\" href=\\\"/gp/help/seller/at-a-glance.html/ref=psdc_13397451_s4_B00LHR4XIA?ie=UTF8&amp;seller=ANSSUHP7HNEWB&amp;isAmazonFulfilled=1\\\">Union Sales</a>\\n                         \\n                         \\n                     </td>\\n                \\n                    <td class=\\\"comparison_sim_items_column comparable_item4\\\">\\n                         \\n                            \\n                         \\n                             <a class=\\\"a-spacing-top-small a-link-normal\\\" target=\\\"_self\\\" rel=\\\"noopener\\\" href=\\\"/gp/help/seller/at-a-glance.html/ref=psdc_13397451_s5_B00LHR4XIA?ie=UTF8&amp;seller=A3K0MKFIP79CN&amp;isAmazonFulfilled=1\\\">Blue Stars LLC</a>\\n                         \\n                         \\n                     </td>\\n                \\n             </tr>\\n\\n\\n            \\n                <tr>\\n                    <th class=\\\"a-span3 comparison_attribute_name_column comparison_table_first_col\\\" role=\\\"rowheader\\\">\\n                        <span class=\\\"a-size-base a-color-base\\\">Color</span>\\n                    </th>\\n                    \\n\\n                    <td class=\\\"comparison_baseitem_column\\\">\\n                     \\n                        \\n                            \\n                                 <span class=\\\"a-color-secondary\\\"></span>\\n                            \\n                            \\n                        \\n                    </td>\\n\\n\\n                    \\n                        <td class=\\\"comparison_sim_items_column comparable_item0\\\">\\n                            \\n                            \\n                            \\n                               \\n                                  \\n                                  \\n                                      <span class=\\\"a-size-base a-color-base\\\">n</span>\\n                                  \\n                               \\n                        </td>\\n                    \\n                        <td class=\\\"comparison_sim_items_column comparable_item1\\\">\\n                            \\n                            \\n                            \\n                               \\n                                  \\n                                  \\n                                      <span class=\\\"a-size-base a-color-base\\\">Black</span>\\n                                  \\n                               \\n                        </td>\\n                    \\n                        <td class=\\\"comparison_sim_items_column comparable_item2\\\">\\n                            \\n                            \\n                            \\n                               \\n                                  \\n                                  \\n                                      <span class=\\\"a-size-base a-color-base\\\">As Pictured</span>\\n                                  \\n                               \\n                        </td>\\n                    \\n                        <td class=\\\"comparison_sim_items_column comparable_item3\\\">\\n                            \\n                            \\n                            \\n                               \\n                                  \\n                                  \\n                                      <span class=\\\"a-size-base a-color-base\\\">metal</span>\\n                                  \\n                               \\n                        </td>\\n                    \\n                        <td class=\\\"comparison_sim_items_column comparable_item4\\\">\\n                            \\n                            \\n                            \\n                               \\n                                  \\n                                  \\n                                      <span class=\\\"a-size-base a-color-base\\\">White</span>\\n                                  \\n                               \\n                        </td>\\n                    \\n                </tr>\\n            \\n       \"\n        ],\n        \"semantic_type\": \"\",\n        \"description\": \"\"\n      }\n    },\n    {\n      \"column\": \"date\",\n      \"properties\": {\n        \"dtype\": \"category\",\n        \"num_unique_values\": 3093,\n        \"samples\": [\n          \"March 30, 2014\"\n        ],\n        \"semantic_type\": \"\",\n        \"description\": \"\"\n      }\n    },\n    {\n      \"column\": \"price\",\n      \"properties\": {\n        \"dtype\": \"category\",\n        \"num_unique_values\": 7863,\n        \"samples\": [\n          \"$233.93\"\n        ],\n        \"semantic_type\": \"\",\n        \"description\": \"\"\n      }\n    },\n    {\n      \"column\": \"asin\",\n      \"properties\": {\n        \"dtype\": \"string\",\n        \"num_unique_values\": 30239,\n        \"samples\": [\n          \"B00DZU9MT2\"\n        ],\n        \"semantic_type\": \"\",\n        \"description\": \"\"\n      }\n    },\n    {\n      \"column\": \"imageURL\",\n      \"properties\": {\n        \"dtype\": \"object\",\n        \"semantic_type\": \"\",\n        \"description\": \"\"\n      }\n    },\n    {\n      \"column\": \"imageURLHighRes\",\n      \"properties\": {\n        \"dtype\": \"object\",\n        \"semantic_type\": \"\",\n        \"description\": \"\"\n      }\n    }\n  ]\n}"
            }
          },
          "metadata": {},
          "execution_count": 13
        }
      ]
    },
    {
      "cell_type": "code",
      "source": [
        "rev = pd.read_json(\"/content/Appliances_5.json\", lines=True)"
      ],
      "metadata": {
        "id": "AaYq64bG4Dgq"
      },
      "execution_count": null,
      "outputs": []
    },
    {
      "cell_type": "code",
      "source": [
        "rev.head(2)"
      ],
      "metadata": {
        "colab": {
          "base_uri": "https://localhost:8080/",
          "height": 236
        },
        "id": "AZk6PD_P31v7",
        "outputId": "bebddc2b-8f2f-41aa-8aa4-74fed52407f8"
      },
      "execution_count": null,
      "outputs": [
        {
          "output_type": "execute_result",
          "data": {
            "text/plain": [
              "   overall  verified   reviewTime      reviewerID        asin  \\\n",
              "0        5      True  08 22, 2013  A34A1UP40713F8  B00009W3I4   \n",
              "1        5      True   02 8, 2016  A1AHW6I678O6F2  B00009W3PA   \n",
              "\n",
              "                       style   reviewerName  \\\n",
              "0  {'Style:': ' Dryer Vent'}  James. Backus   \n",
              "1       {'Size:': ' 6-Foot'}         kevin.   \n",
              "\n",
              "                                          reviewText        summary  \\\n",
              "0  I like this as a vent as well as something tha...  Great product   \n",
              "1                                          good item     Five Stars   \n",
              "\n",
              "   unixReviewTime vote image  \n",
              "0      1377129600  NaN   NaN  \n",
              "1      1454889600  NaN   NaN  "
            ],
            "text/html": [
              "\n",
              "  <div id=\"df-60b662d5-cb4e-4188-aa86-1248b94393e9\" class=\"colab-df-container\">\n",
              "    <div>\n",
              "<style scoped>\n",
              "    .dataframe tbody tr th:only-of-type {\n",
              "        vertical-align: middle;\n",
              "    }\n",
              "\n",
              "    .dataframe tbody tr th {\n",
              "        vertical-align: top;\n",
              "    }\n",
              "\n",
              "    .dataframe thead th {\n",
              "        text-align: right;\n",
              "    }\n",
              "</style>\n",
              "<table border=\"1\" class=\"dataframe\">\n",
              "  <thead>\n",
              "    <tr style=\"text-align: right;\">\n",
              "      <th></th>\n",
              "      <th>overall</th>\n",
              "      <th>verified</th>\n",
              "      <th>reviewTime</th>\n",
              "      <th>reviewerID</th>\n",
              "      <th>asin</th>\n",
              "      <th>style</th>\n",
              "      <th>reviewerName</th>\n",
              "      <th>reviewText</th>\n",
              "      <th>summary</th>\n",
              "      <th>unixReviewTime</th>\n",
              "      <th>vote</th>\n",
              "      <th>image</th>\n",
              "    </tr>\n",
              "  </thead>\n",
              "  <tbody>\n",
              "    <tr>\n",
              "      <th>0</th>\n",
              "      <td>5</td>\n",
              "      <td>True</td>\n",
              "      <td>08 22, 2013</td>\n",
              "      <td>A34A1UP40713F8</td>\n",
              "      <td>B00009W3I4</td>\n",
              "      <td>{'Style:': ' Dryer Vent'}</td>\n",
              "      <td>James. Backus</td>\n",
              "      <td>I like this as a vent as well as something tha...</td>\n",
              "      <td>Great product</td>\n",
              "      <td>1377129600</td>\n",
              "      <td>NaN</td>\n",
              "      <td>NaN</td>\n",
              "    </tr>\n",
              "    <tr>\n",
              "      <th>1</th>\n",
              "      <td>5</td>\n",
              "      <td>True</td>\n",
              "      <td>02 8, 2016</td>\n",
              "      <td>A1AHW6I678O6F2</td>\n",
              "      <td>B00009W3PA</td>\n",
              "      <td>{'Size:': ' 6-Foot'}</td>\n",
              "      <td>kevin.</td>\n",
              "      <td>good item</td>\n",
              "      <td>Five Stars</td>\n",
              "      <td>1454889600</td>\n",
              "      <td>NaN</td>\n",
              "      <td>NaN</td>\n",
              "    </tr>\n",
              "  </tbody>\n",
              "</table>\n",
              "</div>\n",
              "    <div class=\"colab-df-buttons\">\n",
              "\n",
              "  <div class=\"colab-df-container\">\n",
              "    <button class=\"colab-df-convert\" onclick=\"convertToInteractive('df-60b662d5-cb4e-4188-aa86-1248b94393e9')\"\n",
              "            title=\"Convert this dataframe to an interactive table.\"\n",
              "            style=\"display:none;\">\n",
              "\n",
              "  <svg xmlns=\"http://www.w3.org/2000/svg\" height=\"24px\" viewBox=\"0 -960 960 960\">\n",
              "    <path d=\"M120-120v-720h720v720H120Zm60-500h600v-160H180v160Zm220 220h160v-160H400v160Zm0 220h160v-160H400v160ZM180-400h160v-160H180v160Zm440 0h160v-160H620v160ZM180-180h160v-160H180v160Zm440 0h160v-160H620v160Z\"/>\n",
              "  </svg>\n",
              "    </button>\n",
              "\n",
              "  <style>\n",
              "    .colab-df-container {\n",
              "      display:flex;\n",
              "      gap: 12px;\n",
              "    }\n",
              "\n",
              "    .colab-df-convert {\n",
              "      background-color: #E8F0FE;\n",
              "      border: none;\n",
              "      border-radius: 50%;\n",
              "      cursor: pointer;\n",
              "      display: none;\n",
              "      fill: #1967D2;\n",
              "      height: 32px;\n",
              "      padding: 0 0 0 0;\n",
              "      width: 32px;\n",
              "    }\n",
              "\n",
              "    .colab-df-convert:hover {\n",
              "      background-color: #E2EBFA;\n",
              "      box-shadow: 0px 1px 2px rgba(60, 64, 67, 0.3), 0px 1px 3px 1px rgba(60, 64, 67, 0.15);\n",
              "      fill: #174EA6;\n",
              "    }\n",
              "\n",
              "    .colab-df-buttons div {\n",
              "      margin-bottom: 4px;\n",
              "    }\n",
              "\n",
              "    [theme=dark] .colab-df-convert {\n",
              "      background-color: #3B4455;\n",
              "      fill: #D2E3FC;\n",
              "    }\n",
              "\n",
              "    [theme=dark] .colab-df-convert:hover {\n",
              "      background-color: #434B5C;\n",
              "      box-shadow: 0px 1px 3px 1px rgba(0, 0, 0, 0.15);\n",
              "      filter: drop-shadow(0px 1px 2px rgba(0, 0, 0, 0.3));\n",
              "      fill: #FFFFFF;\n",
              "    }\n",
              "  </style>\n",
              "\n",
              "    <script>\n",
              "      const buttonEl =\n",
              "        document.querySelector('#df-60b662d5-cb4e-4188-aa86-1248b94393e9 button.colab-df-convert');\n",
              "      buttonEl.style.display =\n",
              "        google.colab.kernel.accessAllowed ? 'block' : 'none';\n",
              "\n",
              "      async function convertToInteractive(key) {\n",
              "        const element = document.querySelector('#df-60b662d5-cb4e-4188-aa86-1248b94393e9');\n",
              "        const dataTable =\n",
              "          await google.colab.kernel.invokeFunction('convertToInteractive',\n",
              "                                                    [key], {});\n",
              "        if (!dataTable) return;\n",
              "\n",
              "        const docLinkHtml = 'Like what you see? Visit the ' +\n",
              "          '<a target=\"_blank\" href=https://colab.research.google.com/notebooks/data_table.ipynb>data table notebook</a>'\n",
              "          + ' to learn more about interactive tables.';\n",
              "        element.innerHTML = '';\n",
              "        dataTable['output_type'] = 'display_data';\n",
              "        await google.colab.output.renderOutput(dataTable, element);\n",
              "        const docLink = document.createElement('div');\n",
              "        docLink.innerHTML = docLinkHtml;\n",
              "        element.appendChild(docLink);\n",
              "      }\n",
              "    </script>\n",
              "  </div>\n",
              "\n",
              "\n",
              "    <div id=\"df-e4aab9af-8d5f-4452-8854-bb0d13839e0b\">\n",
              "      <button class=\"colab-df-quickchart\" onclick=\"quickchart('df-e4aab9af-8d5f-4452-8854-bb0d13839e0b')\"\n",
              "                title=\"Suggest charts\"\n",
              "                style=\"display:none;\">\n",
              "\n",
              "<svg xmlns=\"http://www.w3.org/2000/svg\" height=\"24px\"viewBox=\"0 0 24 24\"\n",
              "     width=\"24px\">\n",
              "    <g>\n",
              "        <path d=\"M19 3H5c-1.1 0-2 .9-2 2v14c0 1.1.9 2 2 2h14c1.1 0 2-.9 2-2V5c0-1.1-.9-2-2-2zM9 17H7v-7h2v7zm4 0h-2V7h2v10zm4 0h-2v-4h2v4z\"/>\n",
              "    </g>\n",
              "</svg>\n",
              "      </button>\n",
              "\n",
              "<style>\n",
              "  .colab-df-quickchart {\n",
              "      --bg-color: #E8F0FE;\n",
              "      --fill-color: #1967D2;\n",
              "      --hover-bg-color: #E2EBFA;\n",
              "      --hover-fill-color: #174EA6;\n",
              "      --disabled-fill-color: #AAA;\n",
              "      --disabled-bg-color: #DDD;\n",
              "  }\n",
              "\n",
              "  [theme=dark] .colab-df-quickchart {\n",
              "      --bg-color: #3B4455;\n",
              "      --fill-color: #D2E3FC;\n",
              "      --hover-bg-color: #434B5C;\n",
              "      --hover-fill-color: #FFFFFF;\n",
              "      --disabled-bg-color: #3B4455;\n",
              "      --disabled-fill-color: #666;\n",
              "  }\n",
              "\n",
              "  .colab-df-quickchart {\n",
              "    background-color: var(--bg-color);\n",
              "    border: none;\n",
              "    border-radius: 50%;\n",
              "    cursor: pointer;\n",
              "    display: none;\n",
              "    fill: var(--fill-color);\n",
              "    height: 32px;\n",
              "    padding: 0;\n",
              "    width: 32px;\n",
              "  }\n",
              "\n",
              "  .colab-df-quickchart:hover {\n",
              "    background-color: var(--hover-bg-color);\n",
              "    box-shadow: 0 1px 2px rgba(60, 64, 67, 0.3), 0 1px 3px 1px rgba(60, 64, 67, 0.15);\n",
              "    fill: var(--button-hover-fill-color);\n",
              "  }\n",
              "\n",
              "  .colab-df-quickchart-complete:disabled,\n",
              "  .colab-df-quickchart-complete:disabled:hover {\n",
              "    background-color: var(--disabled-bg-color);\n",
              "    fill: var(--disabled-fill-color);\n",
              "    box-shadow: none;\n",
              "  }\n",
              "\n",
              "  .colab-df-spinner {\n",
              "    border: 2px solid var(--fill-color);\n",
              "    border-color: transparent;\n",
              "    border-bottom-color: var(--fill-color);\n",
              "    animation:\n",
              "      spin 1s steps(1) infinite;\n",
              "  }\n",
              "\n",
              "  @keyframes spin {\n",
              "    0% {\n",
              "      border-color: transparent;\n",
              "      border-bottom-color: var(--fill-color);\n",
              "      border-left-color: var(--fill-color);\n",
              "    }\n",
              "    20% {\n",
              "      border-color: transparent;\n",
              "      border-left-color: var(--fill-color);\n",
              "      border-top-color: var(--fill-color);\n",
              "    }\n",
              "    30% {\n",
              "      border-color: transparent;\n",
              "      border-left-color: var(--fill-color);\n",
              "      border-top-color: var(--fill-color);\n",
              "      border-right-color: var(--fill-color);\n",
              "    }\n",
              "    40% {\n",
              "      border-color: transparent;\n",
              "      border-right-color: var(--fill-color);\n",
              "      border-top-color: var(--fill-color);\n",
              "    }\n",
              "    60% {\n",
              "      border-color: transparent;\n",
              "      border-right-color: var(--fill-color);\n",
              "    }\n",
              "    80% {\n",
              "      border-color: transparent;\n",
              "      border-right-color: var(--fill-color);\n",
              "      border-bottom-color: var(--fill-color);\n",
              "    }\n",
              "    90% {\n",
              "      border-color: transparent;\n",
              "      border-bottom-color: var(--fill-color);\n",
              "    }\n",
              "  }\n",
              "</style>\n",
              "\n",
              "      <script>\n",
              "        async function quickchart(key) {\n",
              "          const quickchartButtonEl =\n",
              "            document.querySelector('#' + key + ' button');\n",
              "          quickchartButtonEl.disabled = true;  // To prevent multiple clicks.\n",
              "          quickchartButtonEl.classList.add('colab-df-spinner');\n",
              "          try {\n",
              "            const charts = await google.colab.kernel.invokeFunction(\n",
              "                'suggestCharts', [key], {});\n",
              "          } catch (error) {\n",
              "            console.error('Error during call to suggestCharts:', error);\n",
              "          }\n",
              "          quickchartButtonEl.classList.remove('colab-df-spinner');\n",
              "          quickchartButtonEl.classList.add('colab-df-quickchart-complete');\n",
              "        }\n",
              "        (() => {\n",
              "          let quickchartButtonEl =\n",
              "            document.querySelector('#df-e4aab9af-8d5f-4452-8854-bb0d13839e0b button');\n",
              "          quickchartButtonEl.style.display =\n",
              "            google.colab.kernel.accessAllowed ? 'block' : 'none';\n",
              "        })();\n",
              "      </script>\n",
              "    </div>\n",
              "\n",
              "    </div>\n",
              "  </div>\n"
            ],
            "application/vnd.google.colaboratory.intrinsic+json": {
              "type": "dataframe",
              "variable_name": "rev",
              "summary": "{\n  \"name\": \"rev\",\n  \"rows\": 2277,\n  \"fields\": [\n    {\n      \"column\": \"overall\",\n      \"properties\": {\n        \"dtype\": \"number\",\n        \"std\": 0,\n        \"min\": 1,\n        \"max\": 5,\n        \"num_unique_values\": 5,\n        \"samples\": [\n          4,\n          3,\n          2\n        ],\n        \"semantic_type\": \"\",\n        \"description\": \"\"\n      }\n    },\n    {\n      \"column\": \"verified\",\n      \"properties\": {\n        \"dtype\": \"boolean\",\n        \"num_unique_values\": 2,\n        \"samples\": [\n          false,\n          true\n        ],\n        \"semantic_type\": \"\",\n        \"description\": \"\"\n      }\n    },\n    {\n      \"column\": \"reviewTime\",\n      \"properties\": {\n        \"dtype\": \"object\",\n        \"num_unique_values\": 99,\n        \"samples\": [\n          \"06 12, 2017\",\n          \"03 8, 2015\"\n        ],\n        \"semantic_type\": \"\",\n        \"description\": \"\"\n      }\n    },\n    {\n      \"column\": \"reviewerID\",\n      \"properties\": {\n        \"dtype\": \"category\",\n        \"num_unique_values\": 47,\n        \"samples\": [\n          \"AMY6O4Z9HINO0\",\n          \"A3H61AMBJ177DG\"\n        ],\n        \"semantic_type\": \"\",\n        \"description\": \"\"\n      }\n    },\n    {\n      \"column\": \"asin\",\n      \"properties\": {\n        \"dtype\": \"category\",\n        \"num_unique_values\": 48,\n        \"samples\": [\n          \"B00470A1S0\",\n          \"B00CW0O1EW\"\n        ],\n        \"semantic_type\": \"\",\n        \"description\": \"\"\n      }\n    },\n    {\n      \"column\": \"style\",\n      \"properties\": {\n        \"dtype\": \"object\",\n        \"semantic_type\": \"\",\n        \"description\": \"\"\n      }\n    },\n    {\n      \"column\": \"reviewerName\",\n      \"properties\": {\n        \"dtype\": \"category\",\n        \"num_unique_values\": 47,\n        \"samples\": [\n          \"J. Foust\",\n          \"Randy Bailey\"\n        ],\n        \"semantic_type\": \"\",\n        \"description\": \"\"\n      }\n    },\n    {\n      \"column\": \"reviewText\",\n      \"properties\": {\n        \"dtype\": \"category\",\n        \"num_unique_values\": 144,\n        \"samples\": [\n          \"Cheap fix for an old washer; take the agitator off, put these in, replace the agitator, and you're back in business.  You can even flip the old ones around sometimes to get a bit more use out of them, but these are cheap enough to put in if you're going to take the time to fix the washer anyway.\",\n          \"i cook only once in a blue moon.  i was shocked to see with as little use as this range has had that the grates look like they were under heavy use for years!!!  i called Jenn air and spoke with Adam A.  and they wouldn't exchange them or fix them.  they only offered my 25% off ( which was the same price anyway from the internet).  i can't really compare much else on the range since i haven't used it much and i am  not much of a cook!  the stainless steel does tend to rust and stain.  i got a stainless steel fridge and dishwasher  at the same time  by other brands and those seem to not have the same stainless steel issues.\"\n        ],\n        \"semantic_type\": \"\",\n        \"description\": \"\"\n      }\n    },\n    {\n      \"column\": \"summary\",\n      \"properties\": {\n        \"dtype\": \"category\",\n        \"num_unique_values\": 96,\n        \"samples\": [\n          \"Perfect replacement for aging agitator-type washers...\",\n          \"does not work as promised\"\n        ],\n        \"semantic_type\": \"\",\n        \"description\": \"\"\n      }\n    },\n    {\n      \"column\": \"unixReviewTime\",\n      \"properties\": {\n        \"dtype\": \"number\",\n        \"std\": 56398081,\n        \"min\": 1221523200,\n        \"max\": 1523923200,\n        \"num_unique_values\": 99,\n        \"samples\": [\n          1497225600,\n          1425772800\n        ],\n        \"semantic_type\": \"\",\n        \"description\": \"\"\n      }\n    },\n    {\n      \"column\": \"vote\",\n      \"properties\": {\n        \"dtype\": \"category\",\n        \"num_unique_values\": 16,\n        \"samples\": [\n          \"3\",\n          \"7\"\n        ],\n        \"semantic_type\": \"\",\n        \"description\": \"\"\n      }\n    },\n    {\n      \"column\": \"image\",\n      \"properties\": {\n        \"dtype\": \"object\",\n        \"semantic_type\": \"\",\n        \"description\": \"\"\n      }\n    }\n  ]\n}"
            }
          },
          "metadata": {},
          "execution_count": 15
        }
      ]
    },
    {
      "cell_type": "code",
      "source": [
        "!free -h"
      ],
      "metadata": {
        "colab": {
          "base_uri": "https://localhost:8080/"
        },
        "id": "K6z1iY-cFN-4",
        "outputId": "e5a2fa81-9d0c-40ca-fd3c-e82606e95791"
      },
      "execution_count": null,
      "outputs": [
        {
          "output_type": "stream",
          "name": "stdout",
          "text": [
            "               total        used        free      shared  buff/cache   available\n",
            "Mem:           334Gi       2.2Gi       319Gi       3.0Mi        13Gi       330Gi\n",
            "Swap:             0B          0B          0B\n"
          ]
        }
      ]
    },
    {
      "cell_type": "code",
      "source": [
        "from pyspark.sql import SparkSession\n",
        "from pyspark.ml.feature import StringIndexer\n",
        "from pyspark.ml.recommendation import ALS\n",
        "from pyspark.ml.evaluation import RegressionEvaluator\n",
        "from pyspark.sql.functions import count\n",
        "from pyspark.sql.functions import col, avg, count, max, min, sum as sum_, unix_timestamp\n",
        "from pyspark.ml.feature import VectorAssembler, StandardScaler\n",
        "from pyspark.ml.clustering import KMeans\n",
        "from pyspark.ml.recommendation import ALSModel"
      ],
      "metadata": {
        "id": "JgWcKvFOCj3Q"
      },
      "execution_count": null,
      "outputs": []
    },
    {
      "cell_type": "code",
      "source": [
        "spark = SparkSession.builder \\\n",
        "    .appName(\"ALS Recommendation\") \\\n",
        "    .config(\"spark.driver.memory\", \"64g\") \\\n",
        "    .config(\"spark.executor.memory\", \"64g\") \\\n",
        "    .config(\"spark.memory.fraction\", \"0.8\") \\\n",
        "    .config(\"spark.memory.storageFraction\", \"0.3\") \\\n",
        "    .config(\"spark.sql.shuffle.partitions\", \"200\") \\\n",
        "    .config(\"spark.executor.instances\", \"4\") \\\n",
        "    .config(\"spark.executor.cores\", \"4\") \\\n",
        "    .config(\"spark.default.parallelism\", \"200\") \\\n",
        "    .getOrCreate()"
      ],
      "metadata": {
        "id": "jZT24uPkCqvV"
      },
      "execution_count": null,
      "outputs": []
    },
    {
      "cell_type": "code",
      "source": [
        "df = spark.read.csv(\"/content/Appliances.csv\", header=False, inferSchema=True)\n",
        "df = df.withColumnRenamed(\"_c0\", \"itemId\") \\\n",
        "       .withColumnRenamed(\"_c1\", \"userId\") \\\n",
        "       .withColumnRenamed(\"_c2\", \"rating\") \\\n",
        "       .withColumnRenamed(\"_c3\", \"timestamp\")\n",
        "\n",
        "df.show(5)"
      ],
      "metadata": {
        "colab": {
          "base_uri": "https://localhost:8080/"
        },
        "id": "wls1CAEXCrWT",
        "outputId": "465882bc-7b9b-47b1-effa-c76ee7c69f4f"
      },
      "execution_count": null,
      "outputs": [
        {
          "output_type": "stream",
          "name": "stdout",
          "text": [
            "+----------+--------------+------+----------+\n",
            "|    itemId|        userId|rating| timestamp|\n",
            "+----------+--------------+------+----------+\n",
            "|1118461304|A3NHUQ33CFH3VM|   5.0|1385510400|\n",
            "|1118461304|A3SK6VNBQDNBJE|   5.0|1383264000|\n",
            "|1118461304|A3SOFHUR27FO3K|   5.0|1381363200|\n",
            "|1118461304|A1HOG1PYCAE157|   5.0|1381276800|\n",
            "|1118461304|A26JGAM6GZMM4V|   5.0|1378512000|\n",
            "+----------+--------------+------+----------+\n",
            "only showing top 5 rows\n",
            "\n"
          ]
        }
      ]
    },
    {
      "cell_type": "code",
      "source": [
        "user_indexer = StringIndexer(inputCol=\"userId\", outputCol=\"userIndex\")\n",
        "item_indexer = StringIndexer(inputCol=\"itemId\", outputCol=\"itemIndex\")\n",
        "\n",
        "# Fit and transform\n",
        "user_indexer_model = user_indexer.fit(df)\n",
        "item_indexer_model = item_indexer.fit(df)\n",
        "\n",
        "df_indexed = user_indexer_model.transform(df)\n",
        "df_indexed = item_indexer_model.transform(df_indexed)\n",
        "\n",
        "df_indexed.select(\"userId\", \"userIndex\", \"itemId\", \"itemIndex\", \"rating\").show(5)"
      ],
      "metadata": {
        "colab": {
          "base_uri": "https://localhost:8080/"
        },
        "id": "BnyC7G96C0eP",
        "outputId": "754c6e52-ca2c-4d6e-892e-f21dbaa6707b"
      },
      "execution_count": null,
      "outputs": [
        {
          "output_type": "stream",
          "name": "stdout",
          "text": [
            "+--------------+---------+----------+---------+------+\n",
            "|        userId|userIndex|    itemId|itemIndex|rating|\n",
            "+--------------+---------+----------+---------+------+\n",
            "|A3NHUQ33CFH3VM|    118.0|1118461304|   2229.0|   5.0|\n",
            "|A3SK6VNBQDNBJE| 396610.0|1118461304|   2229.0|   5.0|\n",
            "|A3SOFHUR27FO3K| 397010.0|1118461304|   2229.0|   5.0|\n",
            "|A1HOG1PYCAE157| 122436.0|1118461304|   2229.0|   5.0|\n",
            "|A26JGAM6GZMM4V| 204413.0|1118461304|   2229.0|   5.0|\n",
            "+--------------+---------+----------+---------+------+\n",
            "only showing top 5 rows\n",
            "\n"
          ]
        }
      ]
    },
    {
      "cell_type": "code",
      "source": [
        "user_indexer_model.write().overwrite().save(\"/content/new/user_indexer\")\n",
        "item_indexer_model.write().overwrite().save(\"/content/new/item_indexer\")"
      ],
      "metadata": {
        "id": "Uv3V6_PNDDjQ"
      },
      "execution_count": null,
      "outputs": []
    },
    {
      "cell_type": "code",
      "source": [
        "(training, test) = df_indexed.randomSplit([0.8, 0.2], seed=42)"
      ],
      "metadata": {
        "id": "09e46AbLDMY7"
      },
      "execution_count": null,
      "outputs": []
    },
    {
      "cell_type": "markdown",
      "source": [
        "# test 1"
      ],
      "metadata": {
        "id": "objEwKyG2Le5"
      }
    },
    {
      "cell_type": "code",
      "source": [
        "als = ALS(\n",
        "    userCol=\"userIndex\",\n",
        "    itemCol=\"itemIndex\",\n",
        "    ratingCol=\"rating\",\n",
        "    nonnegative=True,\n",
        "    implicitPrefs=False,\n",
        "    coldStartStrategy=\"drop\",\n",
        "    rank=10,\n",
        "    maxIter=10,\n",
        "    regParam=0.1\n",
        ")"
      ],
      "metadata": {
        "id": "TfqqJgYQDPus"
      },
      "execution_count": null,
      "outputs": []
    },
    {
      "cell_type": "code",
      "source": [
        "als_model = als.fit(training)"
      ],
      "metadata": {
        "id": "6nUAS7OiGWR-"
      },
      "execution_count": null,
      "outputs": []
    },
    {
      "cell_type": "code",
      "source": [
        "predictions = als_model.transform(test)\n",
        "\n",
        "evaluator = RegressionEvaluator(\n",
        "    metricName=\"rmse\",\n",
        "    labelCol=\"rating\",\n",
        "    predictionCol=\"prediction\"\n",
        ")\n",
        "\n",
        "rmse = evaluator.evaluate(predictions)\n",
        "print(f\"Root-mean-square error = {rmse:.4f}\")"
      ],
      "metadata": {
        "colab": {
          "base_uri": "https://localhost:8080/"
        },
        "id": "sRhP-HSoDZVz",
        "outputId": "3225ec49-8eca-4604-8a8e-e7ad0f759dfc"
      },
      "execution_count": null,
      "outputs": [
        {
          "output_type": "stream",
          "name": "stdout",
          "text": [
            "Root-mean-square error = 1.9477\n"
          ]
        }
      ]
    },
    {
      "cell_type": "markdown",
      "source": [
        "# test 2"
      ],
      "metadata": {
        "id": "LS5ppRZKITdq"
      }
    },
    {
      "cell_type": "code",
      "source": [
        "als2 = ALS(\n",
        "    userCol=\"userIndex\",\n",
        "    itemCol=\"itemIndex\",\n",
        "    ratingCol=\"rating\",\n",
        "    nonnegative=True,\n",
        "    implicitPrefs=False,\n",
        "    coldStartStrategy=\"drop\",\n",
        "    rank=20,\n",
        "    maxIter=15,\n",
        "    regParam=0.05\n",
        ")"
      ],
      "metadata": {
        "id": "1AMOlv7-ISLI"
      },
      "execution_count": null,
      "outputs": []
    },
    {
      "cell_type": "code",
      "source": [
        "# Count ratings per user and item\n",
        "user_counts = df.groupBy(\"userId\").agg(count(\"*\").alias(\"user_rating_count\")).filter(\"user_rating_count >= 3\")\n",
        "item_counts = df.groupBy(\"itemId\").agg(count(\"*\").alias(\"item_rating_count\")).filter(\"item_rating_count >= 3\")\n",
        "\n",
        "# Join and clean\n",
        "df_filtered = df.join(user_counts, \"userId\").join(item_counts, \"itemId\")\n",
        "\n",
        "# Optional: drop count columns if you don't need them\n",
        "df_filtered = df_filtered.drop(\"user_rating_count\", \"item_rating_count\")\n",
        "\n",
        "df_filtered.show(5)"
      ],
      "metadata": {
        "colab": {
          "base_uri": "https://localhost:8080/"
        },
        "id": "ubAZdYARISIi",
        "outputId": "fcede90d-29bd-4c95-c565-99a2a1469b42"
      },
      "execution_count": null,
      "outputs": [
        {
          "output_type": "stream",
          "name": "stdout",
          "text": [
            "+----------+--------------+------+----------+\n",
            "|    itemId|        userId|rating| timestamp|\n",
            "+----------+--------------+------+----------+\n",
            "|B0009GVYNW|A10GYWIFBQU7C6|   5.0|1424304000|\n",
            "|B000YRA2R0|A10GYWIFBQU7C6|   5.0|1481587200|\n",
            "|B000YRA2R0|A10GYWIFBQU7C6|   5.0|1481587200|\n",
            "|B0198ZXHEI|A10GYWIFBQU7C6|   2.0|1481587200|\n",
            "|B005B9EWKE|A10GYWIFBQU7C6|   5.0|1481587200|\n",
            "+----------+--------------+------+----------+\n",
            "only showing top 5 rows\n",
            "\n"
          ]
        }
      ]
    },
    {
      "cell_type": "code",
      "source": [
        "user_indexer = StringIndexer(inputCol=\"userId\", outputCol=\"userIndex\")\n",
        "item_indexer = StringIndexer(inputCol=\"itemId\", outputCol=\"itemIndex\")\n",
        "\n",
        "# Fit and transform\n",
        "user_indexer_model = user_indexer.fit(df_filtered)\n",
        "item_indexer_model = item_indexer.fit(df_filtered)\n",
        "\n",
        "df_filtered_indexed = user_indexer_model.transform(df_filtered)\n",
        "df_filtered_indexed = item_indexer_model.transform(df_filtered_indexed)\n",
        "\n",
        "df_filtered_indexed.select(\"userId\", \"userIndex\", \"itemId\", \"itemIndex\", \"rating\").show(5)"
      ],
      "metadata": {
        "colab": {
          "base_uri": "https://localhost:8080/"
        },
        "id": "aUZMqUrYISDO",
        "outputId": "62871f5f-bcc2-4fe0-a833-f543eaa1ccad"
      },
      "execution_count": null,
      "outputs": [
        {
          "output_type": "stream",
          "name": "stdout",
          "text": [
            "+--------------+---------+----------+---------+------+\n",
            "|        userId|userIndex|    itemId|itemIndex|rating|\n",
            "+--------------+---------+----------+---------+------+\n",
            "|A100UD67AHFODS|  12445.0|B000N6302Q|    130.0|   5.0|\n",
            "|A100UD67AHFODS|  12445.0|B00434YUBO|   1483.0|   5.0|\n",
            "|A10GYWIFBQU7C6|    361.0|B0009GVYNW|     14.0|   5.0|\n",
            "|A10GYWIFBQU7C6|    361.0|B000YRA2R0|     21.0|   5.0|\n",
            "|A10GYWIFBQU7C6|    361.0|B000YRA2R0|     21.0|   5.0|\n",
            "+--------------+---------+----------+---------+------+\n",
            "only showing top 5 rows\n",
            "\n"
          ]
        }
      ]
    },
    {
      "cell_type": "code",
      "source": [
        "user_indexer_model.write().overwrite().save(\"/content/new/user_indexer\")\n",
        "item_indexer_model.write().overwrite().save(\"/content/new/item_indexer\")"
      ],
      "metadata": {
        "id": "lzeplLa5TSQ5"
      },
      "execution_count": null,
      "outputs": []
    },
    {
      "cell_type": "code",
      "source": [
        "(training, test) = df_filtered_indexed.randomSplit([0.8, 0.2], seed=42)"
      ],
      "metadata": {
        "id": "_KjpX5oBJxfb"
      },
      "execution_count": null,
      "outputs": []
    },
    {
      "cell_type": "code",
      "source": [
        "als_model2 = als2.fit(training)"
      ],
      "metadata": {
        "id": "tAhAdM5cISA3"
      },
      "execution_count": null,
      "outputs": []
    },
    {
      "cell_type": "code",
      "source": [
        "predictions2 = als_model2.transform(test)\n",
        "\n",
        "evaluator2 = RegressionEvaluator(\n",
        "    metricName=\"rmse\",\n",
        "    labelCol=\"rating\",\n",
        "    predictionCol=\"prediction\"\n",
        ")\n",
        "\n",
        "rmse2 = evaluator2.evaluate(predictions2)\n",
        "print(f\"Root-mean-square error = {rmse2:.4f}\")"
      ],
      "metadata": {
        "colab": {
          "base_uri": "https://localhost:8080/"
        },
        "id": "p9sBQg2_IR-K",
        "outputId": "f14b831f-a67c-480d-ba35-31ed5ccd7c69"
      },
      "execution_count": null,
      "outputs": [
        {
          "output_type": "stream",
          "name": "stdout",
          "text": [
            "Root-mean-square error = 1.4253\n"
          ]
        }
      ]
    },
    {
      "cell_type": "code",
      "source": [
        "user_recs = als_model2.recommendForAllUsers(5)\n",
        "\n",
        "user_recs.show(5, truncate=False)"
      ],
      "metadata": {
        "colab": {
          "base_uri": "https://localhost:8080/"
        },
        "id": "0p93XaxuIR7y",
        "outputId": "e7319a29-df42-4c3f-e07d-355e0f2d694f"
      },
      "execution_count": null,
      "outputs": [
        {
          "output_type": "stream",
          "name": "stdout",
          "text": [
            "+---------+-----------------------------------------------------------------------------------------------+\n",
            "|userIndex|recommendations                                                                                |\n",
            "+---------+-----------------------------------------------------------------------------------------------+\n",
            "|28       |[{5485, 6.4071383}, {4935, 6.395141}, {1258, 6.3938575}, {2636, 6.392906}, {3131, 6.3858356}]  |\n",
            "|31       |[{1278, 6.1527467}, {3666, 6.1312466}, {1998, 5.999569}, {4035, 5.992503}, {4862, 5.9904613}]  |\n",
            "|34       |[{2924, 6.2311034}, {4299, 6.1460147}, {1756, 6.1087427}, {1791, 6.0228014}, {2131, 6.0145864}]|\n",
            "|53       |[{2046, 6.2297873}, {4184, 6.0053577}, {3692, 5.9824033}, {3807, 5.97561}, {6535, 5.9729004}]  |\n",
            "|65       |[{1258, 6.47045}, {995, 6.3952584}, {4274, 6.378051}, {1632, 6.350665}, {2812, 6.283596}]      |\n",
            "+---------+-----------------------------------------------------------------------------------------------+\n",
            "only showing top 5 rows\n",
            "\n"
          ]
        }
      ]
    },
    {
      "cell_type": "code",
      "source": [
        "user_labels = user_indexer_model.labels\n",
        "item_labels = item_indexer_model.labels\n",
        "\n",
        "# Decode example\n",
        "user_id = user_labels[28]  # userIndex=123 ➜ original userId\n",
        "item_id1 = item_labels[5485]   # itemIndex=87 ➜ original itemId\n",
        "item_id2 = item_labels[4935]\n",
        "item_id3 = item_labels[1258]\n",
        "item_id4 = item_labels[2636]\n",
        "item_id5 = item_labels[3131]"
      ],
      "metadata": {
        "id": "Jg7zneEvLYjM"
      },
      "execution_count": null,
      "outputs": []
    },
    {
      "cell_type": "code",
      "source": [
        "print(f\"user {user_id} might like : \\n item: {item_id1},\\n item: {item_id2}, \\n item: {item_id3},\\n item: {item_id4}, \\n item: {item_id5},\")"
      ],
      "metadata": {
        "colab": {
          "base_uri": "https://localhost:8080/"
        },
        "id": "7eoW08xwLZ2l",
        "outputId": "75d6f77e-3a0c-4139-c4d4-dd70a2cd92a6"
      },
      "execution_count": null,
      "outputs": [
        {
          "output_type": "stream",
          "name": "stdout",
          "text": [
            "user A6FPI5CM4W5WB might like : \n",
            " item: B005B496BO,\n",
            " item: B001DPV3G6, \n",
            " item: B001DIFSGO,\n",
            " item: B005BA2O44, \n",
            " item: B01DTQ3T4A,\n"
          ]
        }
      ]
    },
    {
      "cell_type": "code",
      "source": [
        "als_model2.write().overwrite().save(\"/content/new/als_model_general\")"
      ],
      "metadata": {
        "id": "MsoaPaVKDkqf"
      },
      "execution_count": null,
      "outputs": []
    },
    {
      "cell_type": "markdown",
      "source": [
        "# user segmentation"
      ],
      "metadata": {
        "id": "U9SxGZC7t8Th"
      }
    },
    {
      "cell_type": "code",
      "source": [
        "df = spark.read.json('/content/Appliances_5.json')\n",
        "df.show(3)"
      ],
      "metadata": {
        "id": "ikmMh-xWIQ4z",
        "colab": {
          "base_uri": "https://localhost:8080/"
        },
        "outputId": "5d46b506-cae3-4e8e-ebeb-df8025407f04"
      },
      "execution_count": null,
      "outputs": [
        {
          "output_type": "stream",
          "name": "stdout",
          "text": [
            "+----------+-----+-------+--------------------+-----------+--------------+-------------+--------------------+-------------+--------------+--------+----+\n",
            "|      asin|image|overall|          reviewText| reviewTime|    reviewerID| reviewerName|               style|      summary|unixReviewTime|verified|vote|\n",
            "+----------+-----+-------+--------------------+-----------+--------------+-------------+--------------------+-------------+--------------+--------+----+\n",
            "|B00009W3I4| NULL|    5.0|I like this as a ...|08 22, 2013|A34A1UP40713F8|James. Backus|{NULL, NULL, NULL...|Great product|    1377129600|    true|NULL|\n",
            "|B00009W3PA| NULL|    5.0|           good item| 02 8, 2016|A1AHW6I678O6F2|       kevin.|{NULL, NULL, NULL...|   Five Stars|    1454889600|    true|NULL|\n",
            "|B00009W3PA| NULL|    5.0|Fit my new LG dry...| 08 5, 2015| A8R48NKTGCJDQ|    CDBrannom|{NULL, NULL, NULL...|   Five Stars|    1438732800|    true|NULL|\n",
            "+----------+-----+-------+--------------------+-----------+--------------+-------------+--------------------+-------------+--------------+--------+----+\n",
            "only showing top 3 rows\n",
            "\n"
          ]
        }
      ]
    },
    {
      "cell_type": "code",
      "source": [
        "# Basic feature engineering\n",
        "user_features = df.groupBy(\"reviewerID\").agg(\n",
        "    count(\"*\").alias(\"num_reviews\"),\n",
        "    avg(\"overall\").alias(\"avg_rating\"),\n",
        "    sum_(col(\"verified\").cast(\"int\")).alias(\"num_verified\"),\n",
        "    min(\"unixReviewTime\").alias(\"first_review\"),\n",
        "    max(\"unixReviewTime\").alias(\"last_review\")\n",
        ")"
      ],
      "metadata": {
        "id": "_kfsPowRIQ10"
      },
      "execution_count": null,
      "outputs": []
    },
    {
      "cell_type": "code",
      "source": [
        "# Add ratio and frequency features\n",
        "user_features = user_features.withColumn(\"verified_ratio\", col(\"num_verified\") / col(\"num_reviews\"))\n",
        "user_features = user_features.withColumn(\"review_timespan\", (col(\"last_review\") - col(\"first_review\")) / 86400)  # in days\n",
        "user_features = user_features.na.fill(0)\n",
        "user_features.show(5)"
      ],
      "metadata": {
        "id": "P31ZzD7DIQy2",
        "colab": {
          "base_uri": "https://localhost:8080/"
        },
        "outputId": "009b9f01-dcf7-45e2-941c-ce2b9e0385e9"
      },
      "execution_count": null,
      "outputs": [
        {
          "output_type": "stream",
          "name": "stdout",
          "text": [
            "+--------------+-----------+----------+------------+------------+-----------+--------------+---------------+\n",
            "|    reviewerID|num_reviews|avg_rating|num_verified|first_review|last_review|verified_ratio|review_timespan|\n",
            "+--------------+-----------+----------+------------+------------+-----------+--------------+---------------+\n",
            "|A3VYM3NY7W4MX4|        206|       5.0|         206|  1482278400| 1482278400|           1.0|            0.0|\n",
            "| AR3OHHHW01A8E|          5|       5.0|           5|  1429833600| 1447200000|           1.0|          201.0|\n",
            "| A8R48NKTGCJDQ|          5|       4.2|           5|  1438732800| 1438732800|           1.0|            0.0|\n",
            "|A21TPY9BVC9IKZ|        206|       5.0|         206|  1299024000| 1299024000|           1.0|            0.0|\n",
            "| AJPRN1TD1A0SD|          5|       2.2|           5|  1440374400| 1469404800|           1.0|          336.0|\n",
            "+--------------+-----------+----------+------------+------------+-----------+--------------+---------------+\n",
            "only showing top 5 rows\n",
            "\n"
          ]
        }
      ]
    },
    {
      "cell_type": "code",
      "source": [
        "assembler = VectorAssembler(inputCols=[\"num_reviews\", \"avg_rating\", \"verified_ratio\", \"review_timespan\"], outputCol=\"features_raw\")\n",
        "assembled = assembler.transform(user_features)\n",
        "\n",
        "scaler = StandardScaler(inputCol=\"features_raw\", outputCol=\"features\", withStd=True, withMean=True)\n",
        "scaler_model = scaler.fit(assembled)\n",
        "scaled = scaler_model.transform(assembled)"
      ],
      "metadata": {
        "id": "rTGiqyb4IQv4"
      },
      "execution_count": null,
      "outputs": []
    },
    {
      "cell_type": "code",
      "source": [
        "scaler_model.save(\"/content/new/scaler_model\")"
      ],
      "metadata": {
        "id": "vRNMnWH_VOE4"
      },
      "execution_count": null,
      "outputs": []
    },
    {
      "cell_type": "code",
      "source": [
        "# scaler_model = scaler.fit(assembled)\n",
        "\n",
        "# # Use the model to transform\n",
        "# scaled_df = scaler_model.transform(assembled)\n",
        "\n",
        "# # Save this scaler model for future use\n",
        "# scaler_model.save(\"/content/scaler_model\")"
      ],
      "metadata": {
        "id": "NGsEBgt36USA"
      },
      "execution_count": null,
      "outputs": []
    },
    {
      "cell_type": "code",
      "source": [
        "kmeans = KMeans(featuresCol=\"features\", k=5, seed=42)\n",
        "kmeans_model = kmeans.fit(scaled)"
      ],
      "metadata": {
        "id": "Rcr4mtOZul7m"
      },
      "execution_count": null,
      "outputs": []
    },
    {
      "cell_type": "code",
      "source": [
        "kmeans_model.save(\"/content/new/kmeans_model\")"
      ],
      "metadata": {
        "id": "qn-Ho4UnhO-r"
      },
      "execution_count": null,
      "outputs": []
    },
    {
      "cell_type": "code",
      "source": [
        "clustered = kmeans_model.transform(scaled)\n",
        "clustered.select(\"reviewerID\", \"prediction\").show(10)"
      ],
      "metadata": {
        "colab": {
          "base_uri": "https://localhost:8080/"
        },
        "id": "5ucWU43-uuGO",
        "outputId": "7c4db77e-a1e2-482d-dd6a-cf21af42e454"
      },
      "execution_count": null,
      "outputs": [
        {
          "output_type": "stream",
          "name": "stdout",
          "text": [
            "+--------------+----------+\n",
            "|    reviewerID|prediction|\n",
            "+--------------+----------+\n",
            "|A3VYM3NY7W4MX4|         2|\n",
            "| AR3OHHHW01A8E|         1|\n",
            "| A8R48NKTGCJDQ|         1|\n",
            "|A21TPY9BVC9IKZ|         2|\n",
            "| AJPRN1TD1A0SD|         0|\n",
            "|A2B2JVUX5YN8RU|         2|\n",
            "|A2LDP3A4IE9T6T|         2|\n",
            "|A1AHW6I678O6F2|         1|\n",
            "|A3H61AMBJ177DG|         1|\n",
            "|A1EUO0BU72JR7T|         1|\n",
            "+--------------+----------+\n",
            "only showing top 10 rows\n",
            "\n"
          ]
        }
      ]
    },
    {
      "cell_type": "code",
      "source": [
        "clustered.groupBy(\"prediction\").agg(\n",
        "    avg(\"avg_rating\"),\n",
        "    avg(\"num_reviews\"),\n",
        "    avg(\"verified_ratio\"),\n",
        "    avg(\"review_timespan\")\n",
        ").show()"
      ],
      "metadata": {
        "colab": {
          "base_uri": "https://localhost:8080/"
        },
        "id": "cupMxmEEu1Wy",
        "outputId": "7dd031aa-96d9-4e9d-d8a5-d1dd2d6c42b1"
      },
      "execution_count": null,
      "outputs": [
        {
          "output_type": "stream",
          "name": "stdout",
          "text": [
            "+----------+------------------+-----------------+-------------------+--------------------+\n",
            "|prediction|   avg(avg_rating)| avg(num_reviews)|avg(verified_ratio)|avg(review_timespan)|\n",
            "+----------+------------------+-----------------+-------------------+--------------------+\n",
            "|         1|4.8677777777777775|              6.0| 0.9068253968253968|   398.6333333333333|\n",
            "|         3|               1.0|              5.0|                0.0|                 0.0|\n",
            "|         4|3.3777777777777778|5.666666666666667| 0.6666666666666666|              2372.0|\n",
            "|         2|               4.5|            206.0|                1.0|                 0.0|\n",
            "|         0|2.3333333333333335|              5.0|                1.0|               196.0|\n",
            "+----------+------------------+-----------------+-------------------+--------------------+\n",
            "\n"
          ]
        }
      ]
    },
    {
      "cell_type": "code",
      "source": [
        "# Save to Parquet\n",
        "output_path = \"/content/new/user_segments.parquet\"\n",
        "clustered.select(\"reviewerID\", \"prediction\").write.mode(\"overwrite\").parquet(output_path)\n",
        "\n",
        "# Optional: also save as CSV if needed\n",
        "# clustered.select(\"reviewerID\", \"prediction\").write.mode(\"overwrite\").csv(\"/content/new/user_segments.csv\", header=True)"
      ],
      "metadata": {
        "id": "cJ27Wauvu9WZ"
      },
      "execution_count": null,
      "outputs": []
    },
    {
      "cell_type": "code",
      "source": [
        "segmented_df = spark.read.parquet(\"/content/new/user_segments.parquet\")\n",
        "segmented_df.show(5)"
      ],
      "metadata": {
        "colab": {
          "base_uri": "https://localhost:8080/"
        },
        "id": "VcNLtlXnWPk8",
        "outputId": "a9474978-7d32-4639-b9ad-c8819d5f405b"
      },
      "execution_count": null,
      "outputs": [
        {
          "output_type": "stream",
          "name": "stdout",
          "text": [
            "+--------------+----------+\n",
            "|    reviewerID|prediction|\n",
            "+--------------+----------+\n",
            "|A3VYM3NY7W4MX4|         2|\n",
            "| AR3OHHHW01A8E|         1|\n",
            "| A8R48NKTGCJDQ|         1|\n",
            "|A21TPY9BVC9IKZ|         2|\n",
            "| AJPRN1TD1A0SD|         0|\n",
            "+--------------+----------+\n",
            "only showing top 5 rows\n",
            "\n"
          ]
        }
      ]
    },
    {
      "cell_type": "markdown",
      "source": [
        "### combining with als"
      ],
      "metadata": {
        "id": "IrIJo6rUwnTK"
      }
    },
    {
      "cell_type": "code",
      "source": [
        "ratings_df = spark.read.csv(\"/content/Appliances.csv\", header=False, inferSchema=True)\n",
        "ratings_df = ratings_df.withColumnRenamed(\"_c0\", \"itemId\") \\\n",
        "       .withColumnRenamed(\"_c1\", \"userId\") \\\n",
        "       .withColumnRenamed(\"_c2\", \"rating\") \\\n",
        "       .withColumnRenamed(\"_c3\", \"timestamp\")\n",
        "\n",
        "ratings_df.show(5)"
      ],
      "metadata": {
        "colab": {
          "base_uri": "https://localhost:8080/"
        },
        "id": "Gl5N6LvswyLT",
        "outputId": "5264b7ac-15f7-4c28-e7ae-002209a9a8d7"
      },
      "execution_count": null,
      "outputs": [
        {
          "output_type": "stream",
          "name": "stdout",
          "text": [
            "+----------+--------------+------+----------+\n",
            "|    itemId|        userId|rating| timestamp|\n",
            "+----------+--------------+------+----------+\n",
            "|1118461304|A3NHUQ33CFH3VM|   5.0|1385510400|\n",
            "|1118461304|A3SK6VNBQDNBJE|   5.0|1383264000|\n",
            "|1118461304|A3SOFHUR27FO3K|   5.0|1381363200|\n",
            "|1118461304|A1HOG1PYCAE157|   5.0|1381276800|\n",
            "|1118461304|A26JGAM6GZMM4V|   5.0|1378512000|\n",
            "+----------+--------------+------+----------+\n",
            "only showing top 5 rows\n",
            "\n"
          ]
        }
      ]
    },
    {
      "cell_type": "code",
      "source": [
        "# # Count ratings per user and item\n",
        "# user_counts = ratings_df.groupBy(\"userId\").agg(count(\"*\").alias(\"user_rating_count\")).filter(\"user_rating_count >= 3\")\n",
        "# item_counts = ratings_df.groupBy(\"itemId\").agg(count(\"*\").alias(\"item_rating_count\")).filter(\"item_rating_count >= 3\")\n",
        "\n",
        "# # Join and clean\n",
        "# ratings_df_filtered = ratings_df.join(user_counts, \"userId\").join(item_counts, \"itemId\")\n",
        "\n",
        "# # Optional: drop count columns if you don't need them\n",
        "# ratings_df_filtered = ratings_df_filtered.drop(\"user_rating_count\", \"item_rating_count\")\n",
        "\n",
        "# ratings_df_filtered.show(5)"
      ],
      "metadata": {
        "id": "4foKaBOayBAq"
      },
      "execution_count": null,
      "outputs": []
    },
    {
      "cell_type": "code",
      "source": [
        "# user_indexer = StringIndexer(inputCol=\"userId\", outputCol=\"userIndex\")\n",
        "# item_indexer = StringIndexer(inputCol=\"itemId\", outputCol=\"itemIndex\")\n",
        "\n",
        "# # Fit and transform\n",
        "# user_indexer_model = user_indexer.fit(ratings_df_filtered)\n",
        "# item_indexer_model = item_indexer.fit(ratings_df_filtered)\n",
        "\n",
        "# ratings_df_filtered_indexed = user_indexer_model.transform(ratings_df_filtered)\n",
        "# ratings_df_filtered_indexed = item_indexer_model.transform(ratings_df_filtered_indexed)\n",
        "\n",
        "# ratings_df_filtered_indexed.select(\"userId\", \"userIndex\", \"itemId\", \"itemIndex\", \"rating\").show(5)"
      ],
      "metadata": {
        "id": "XKBYw25MyW6k"
      },
      "execution_count": null,
      "outputs": []
    },
    {
      "cell_type": "code",
      "source": [
        "segmented_df.show(5)"
      ],
      "metadata": {
        "colab": {
          "base_uri": "https://localhost:8080/"
        },
        "id": "auMqPgPIX0wq",
        "outputId": "57d18d2f-e558-484e-c716-d27c1507be0e"
      },
      "execution_count": null,
      "outputs": [
        {
          "output_type": "stream",
          "name": "stdout",
          "text": [
            "+--------------+----------+\n",
            "|    reviewerID|prediction|\n",
            "+--------------+----------+\n",
            "|A3VYM3NY7W4MX4|         2|\n",
            "| AR3OHHHW01A8E|         1|\n",
            "| A8R48NKTGCJDQ|         1|\n",
            "|A21TPY9BVC9IKZ|         2|\n",
            "| AJPRN1TD1A0SD|         0|\n",
            "+--------------+----------+\n",
            "only showing top 5 rows\n",
            "\n"
          ]
        }
      ]
    },
    {
      "cell_type": "code",
      "source": [
        "# Rename reviewerID to userId for join consistency\n",
        "segments = segmented_df.withColumnRenamed(\"reviewerID\", \"userId\")\n",
        "\n",
        "# Join ratings with segments to get cluster for each rating\n",
        "ratings_with_segment = ratings_df.join(segments, on=\"userId\", how=\"inner\")\n",
        "\n",
        "# Show joined data\n",
        "ratings_with_segment.show(5)"
      ],
      "metadata": {
        "colab": {
          "base_uri": "https://localhost:8080/"
        },
        "id": "wL_3cJvDwQfP",
        "outputId": "ee1ad817-c7e2-4ecd-c97b-769c47a4c6a6"
      },
      "execution_count": null,
      "outputs": [
        {
          "output_type": "stream",
          "name": "stdout",
          "text": [
            "+--------------+----------+------+----------+----------+\n",
            "|        userId|    itemId|rating| timestamp|prediction|\n",
            "+--------------+----------+------+----------+----------+\n",
            "|A3NHUQ33CFH3VM|1118461304|   5.0|1385510400|         1|\n",
            "| AR3OHHHW01A8E|B00007E7RQ|   5.0|1429833600|         1|\n",
            "|A34A1UP40713F8|B00009W3I4|   5.0|1377129600|         1|\n",
            "|A1AHW6I678O6F2|B00009W3PA|   5.0|1454889600|         1|\n",
            "| A8R48NKTGCJDQ|B00009W3PA|   5.0|1438732800|         1|\n",
            "+--------------+----------+------+----------+----------+\n",
            "only showing top 5 rows\n",
            "\n"
          ]
        }
      ]
    },
    {
      "cell_type": "code",
      "source": [
        "user_indexer = StringIndexer(inputCol=\"userId\", outputCol=\"userIdIndex\")\n",
        "item_indexer = StringIndexer(inputCol=\"itemId\", outputCol=\"itemIdIndex\")\n",
        "\n",
        "# Fit and transform\n",
        "user_indexer_model = user_indexer.fit(ratings_with_segment)\n",
        "item_indexer_model = item_indexer.fit(ratings_with_segment)\n",
        "\n",
        "ratings_indexed = user_indexer_model.transform(ratings_with_segment)\n",
        "ratings_indexed = item_indexer_model.transform(ratings_indexed)\n",
        "\n",
        "ratings_indexed.select(\"userId\", \"userIdIndex\", \"itemId\", \"itemIdIndex\", \"rating\", \"prediction\").show(5)"
      ],
      "metadata": {
        "colab": {
          "base_uri": "https://localhost:8080/"
        },
        "id": "XXNgCv9ccjlX",
        "outputId": "35e433e1-5dcb-4343-9345-b59f45299879"
      },
      "execution_count": null,
      "outputs": [
        {
          "output_type": "stream",
          "name": "stdout",
          "text": [
            "+--------------+-----------+----------+-----------+------+----------+\n",
            "|        userId|userIdIndex|    itemId|itemIdIndex|rating|prediction|\n",
            "+--------------+-----------+----------+-----------+------+----------+\n",
            "|A3NHUQ33CFH3VM|       28.0|1118461304|       80.0|   5.0|         1|\n",
            "| AR3OHHHW01A8E|       34.0|B00007E7RQ|       81.0|   5.0|         1|\n",
            "|A34A1UP40713F8|       27.0|B00009W3I4|       82.0|   5.0|         1|\n",
            "|A1AHW6I678O6F2|       37.0|B00009W3PA|       19.0|   5.0|         1|\n",
            "| A8R48NKTGCJDQ|       41.0|B00009W3PA|       19.0|   5.0|         1|\n",
            "+--------------+-----------+----------+-----------+------+----------+\n",
            "only showing top 5 rows\n",
            "\n"
          ]
        }
      ]
    },
    {
      "cell_type": "code",
      "source": [
        "user_labels = user_indexer_model.labels\n",
        "item_labels = item_indexer_model.labels\n",
        "\n",
        "import json\n",
        "\n",
        "with open(\"user_indexer_labels.json\", \"w\") as f:\n",
        "    json.dump(user_labels, f)\n",
        "\n",
        "with open(\"item_indexer_labels.json\", \"w\") as f:\n",
        "    json.dump(item_labels, f)"
      ],
      "metadata": {
        "id": "EtASX_sGXo2m"
      },
      "execution_count": null,
      "outputs": []
    },
    {
      "cell_type": "code",
      "source": [
        "user_indexer_model.write().overwrite().save(\"/content/new/indexers/user_indexer\")\n",
        "item_indexer_model.write().overwrite().save(\"/content/new/indexers/item_indexer\")"
      ],
      "metadata": {
        "id": "DAVAMc9jdwPB"
      },
      "execution_count": null,
      "outputs": []
    },
    {
      "cell_type": "code",
      "source": [
        "# Initialize evaluator\n",
        "evaluator = RegressionEvaluator(metricName=\"rmse\", labelCol=\"rating\", predictionCol=\"prediction\")\n",
        "\n",
        "# Store models and metrics\n",
        "models = {}\n",
        "metrics = {}\n",
        "\n",
        "for cluster_id in range(5):  # Assuming 5 clusters\n",
        "    print(f\"\\nTraining ALS for cluster {cluster_id}...\")\n",
        "\n",
        "    cluster_ratings = ratings_indexed.filter(ratings_indexed.prediction == cluster_id)\n",
        "\n",
        "    # Split into train/test\n",
        "    train, test = cluster_ratings.randomSplit([0.8, 0.2], seed=42)\n",
        "\n",
        "    als = ALS(\n",
        "        userCol=\"userIdIndex\",  # Will create string indexer later\n",
        "        itemCol=\"itemIdIndex\",\n",
        "        ratingCol=\"rating\",\n",
        "        nonnegative=True,\n",
        "        coldStartStrategy=\"drop\",\n",
        "        rank=20,\n",
        "        maxIter=15,\n",
        "        regParam=0.05,\n",
        "        seed=42\n",
        "    )\n",
        "\n",
        "    train = train.drop(\"prediction\")\n",
        "    test = test.drop(\"prediction\")\n",
        "\n",
        "    # Fit ALS model\n",
        "    model = als.fit(train)\n",
        "    models[cluster_id] = model\n",
        "\n",
        "    # Predict on test set\n",
        "    predictions = model.transform(test)\n",
        "\n",
        "    # Evaluate\n",
        "    rmse = evaluator.evaluate(predictions)\n",
        "    metrics[cluster_id] = rmse\n",
        "\n",
        "    print(f\"Cluster {cluster_id} RMSE: {rmse:.4f}\")"
      ],
      "metadata": {
        "colab": {
          "base_uri": "https://localhost:8080/"
        },
        "id": "_NlSatLNeMiV",
        "outputId": "f2d99eb6-e68c-4582-cefb-df7143d07b93"
      },
      "execution_count": null,
      "outputs": [
        {
          "output_type": "stream",
          "name": "stdout",
          "text": [
            "\n",
            "Training ALS for cluster 0...\n",
            "Cluster 0 RMSE: 0.0057\n",
            "\n",
            "Training ALS for cluster 1...\n",
            "Cluster 1 RMSE: 0.2402\n",
            "\n",
            "Training ALS for cluster 2...\n",
            "Cluster 2 RMSE: 0.0191\n",
            "\n",
            "Training ALS for cluster 3...\n",
            "Cluster 3 RMSE: 0.0476\n",
            "\n",
            "Training ALS for cluster 4...\n",
            "Cluster 4 RMSE: 0.0322\n"
          ]
        }
      ]
    },
    {
      "cell_type": "code",
      "source": [
        "# # Initialize evaluator\n",
        "# evaluator = RegressionEvaluator(metricName=\"rmse\", labelCol=\"rating\", predictionCol=\"prediction\")\n",
        "\n",
        "# # Store models and metrics\n",
        "# models = {}\n",
        "# metrics = {}\n",
        "\n",
        "# for cluster_id in range(5):  # Assuming 5 clusters\n",
        "#     print(f\"\\nTraining ALS for cluster {cluster_id}...\")\n",
        "\n",
        "#     cluster_ratings = ratings_with_segment.filter(ratings_with_segment.prediction == cluster_id)\n",
        "\n",
        "#     # Split into train/test\n",
        "#     train, test = cluster_ratings.randomSplit([0.8, 0.2], seed=42)\n",
        "\n",
        "#     als = ALS(\n",
        "#         userCol=\"userIdIndex\",  # Will create string indexer later\n",
        "#         itemCol=\"itemIdIndex\",\n",
        "#         ratingCol=\"rating\",\n",
        "#         nonnegative=True,\n",
        "#         coldStartStrategy=\"drop\",\n",
        "#         rank=20,\n",
        "#         maxIter=15,\n",
        "#         regParam=0.05,\n",
        "#         seed=42\n",
        "#     )\n",
        "\n",
        "#     # StringIndex userId and itemId to integer indexes for ALS\n",
        "#     from pyspark.ml.feature import StringIndexer\n",
        "\n",
        "#     user_indexer = StringIndexer(inputCol=\"userId\", outputCol=\"userIdIndex\", handleInvalid=\"skip\").fit(cluster_ratings)\n",
        "#     item_indexer = StringIndexer(inputCol=\"itemId\", outputCol=\"itemIdIndex\", handleInvalid=\"skip\").fit(cluster_ratings)\n",
        "\n",
        "#     train_indexed = user_indexer.transform(train)\n",
        "#     train_indexed = item_indexer.transform(train_indexed)\n",
        "\n",
        "#     test_indexed = user_indexer.transform(test)\n",
        "#     test_indexed = item_indexer.transform(test_indexed)\n",
        "\n",
        "#     train_indexed = train_indexed.drop(\"prediction\")\n",
        "#     test_indexed = test_indexed.drop(\"prediction\")\n",
        "\n",
        "#     # Fit ALS model\n",
        "#     model = als.fit(train_indexed)\n",
        "#     models[cluster_id] = model\n",
        "\n",
        "#     # Predict on test set\n",
        "#     predictions = model.transform(test_indexed)\n",
        "\n",
        "#     # Evaluate\n",
        "#     rmse = evaluator.evaluate(predictions)\n",
        "#     metrics[cluster_id] = rmse\n",
        "\n",
        "#     print(f\"Cluster {cluster_id} RMSE: {rmse:.4f}\")"
      ],
      "metadata": {
        "colab": {
          "base_uri": "https://localhost:8080/"
        },
        "id": "E34gpiYmw-NZ",
        "outputId": "d805b695-d1bd-4cc5-d23c-b8356407f477"
      },
      "execution_count": null,
      "outputs": [
        {
          "output_type": "stream",
          "name": "stdout",
          "text": [
            "\n",
            "Training ALS for cluster 0...\n",
            "Cluster 0 RMSE: 0.0055\n",
            "\n",
            "Training ALS for cluster 1...\n",
            "Cluster 1 RMSE: 0.2508\n",
            "\n",
            "Training ALS for cluster 2...\n",
            "Cluster 2 RMSE: 0.0191\n",
            "\n",
            "Training ALS for cluster 3...\n",
            "Cluster 3 RMSE: 0.0476\n",
            "\n",
            "Training ALS for cluster 4...\n",
            "Cluster 4 RMSE: 0.0309\n"
          ]
        }
      ]
    },
    {
      "cell_type": "code",
      "source": [
        "import os\n",
        "\n",
        "save_dir = \"/content/new/als_models\"\n",
        "os.makedirs(save_dir, exist_ok=True)\n",
        "\n",
        "for cluster_id, model in models.items():\n",
        "    path = os.path.join(save_dir, f\"als_model_cluster_{cluster_id}\")\n",
        "    model.write().overwrite().save(path)\n",
        "    print(f\"Model for cluster {cluster_id} saved at {path}\")"
      ],
      "metadata": {
        "colab": {
          "base_uri": "https://localhost:8080/"
        },
        "id": "LTvSbMLrzOGh",
        "outputId": "bec00d64-1c4b-4c70-e294-38d006ed483f"
      },
      "execution_count": null,
      "outputs": [
        {
          "output_type": "stream",
          "name": "stdout",
          "text": [
            "Model for cluster 0 saved at /content/new/als_models/als_model_cluster_0\n",
            "Model for cluster 1 saved at /content/new/als_models/als_model_cluster_1\n",
            "Model for cluster 2 saved at /content/new/als_models/als_model_cluster_2\n",
            "Model for cluster 3 saved at /content/new/als_models/als_model_cluster_3\n",
            "Model for cluster 4 saved at /content/new/als_models/als_model_cluster_4\n"
          ]
        }
      ]
    },
    {
      "cell_type": "code",
      "source": [
        "from pyspark.ml.recommendation import ALSModel\n",
        "\n",
        "loaded_models = {}\n",
        "\n",
        "for cluster_id in range(5):\n",
        "    path = f\"/content/new/als_models/als_model_cluster_{cluster_id}\"\n",
        "    loaded_model = ALSModel.load(path)\n",
        "    loaded_models[cluster_id] = loaded_model\n",
        "    print(f\"Model for cluster {cluster_id} loaded from {path}\")"
      ],
      "metadata": {
        "colab": {
          "base_uri": "https://localhost:8080/"
        },
        "id": "7bYPkfug0tl8",
        "outputId": "a9291f8e-d926-4c07-9402-851337922bab"
      },
      "execution_count": null,
      "outputs": [
        {
          "output_type": "stream",
          "name": "stdout",
          "text": [
            "Model for cluster 0 loaded from /content/new/als_models/als_model_cluster_0\n",
            "Model for cluster 1 loaded from /content/new/als_models/als_model_cluster_1\n",
            "Model for cluster 2 loaded from /content/new/als_models/als_model_cluster_2\n",
            "Model for cluster 3 loaded from /content/new/als_models/als_model_cluster_3\n",
            "Model for cluster 4 loaded from /content/new/als_models/als_model_cluster_4\n"
          ]
        }
      ]
    },
    {
      "cell_type": "code",
      "source": [
        "# from pyspark.ml.recommendation import ALSModel\n",
        "# from pyspark.sql.functions import col\n",
        "# import os\n",
        "\n",
        "# def recommend_for_user(user_id, user_segments_df, indexers, top_n=5):\n",
        "#     \"\"\"\n",
        "#     Recommends top-N items for a given user based on their cluster.\n",
        "\n",
        "#     Parameters:\n",
        "#     - user_id (str): ID of the user\n",
        "#     - user_segments_df (DataFrame): must contain 'userId' and 'cluster' columns\n",
        "#     - indexers (dict): {\"user\": user_indexer_model, \"item\": item_indexer_model}\n",
        "#     - top_n (int): number of recommendations\n",
        "\n",
        "#     Returns:\n",
        "#     - DataFrame with recommendations (itemId, rating prediction)\n",
        "#     \"\"\"\n",
        "\n",
        "#     # Step 1: Get cluster for user\n",
        "#     cluster_row = user_segments_df.filter(col(\"reviewerID\") == user_id).select(\"prediction\").collect()\n",
        "#     if not cluster_row:\n",
        "#         print(f\"User {user_id} not found in segmentation.\")\n",
        "#         return None\n",
        "#     cluster_id = cluster_row[0][\"prediction\"]\n",
        "\n",
        "#     # Step 2: Load ALS model for the user's cluster\n",
        "#     model_path = f\"/content/als_models/als_model_cluster_{cluster_id}\"\n",
        "#     if not os.path.exists(model_path):\n",
        "#         print(f\"Model path {model_path} does not exist.\")\n",
        "#         return None\n",
        "#     als_model = ALSModel.load(model_path)\n",
        "\n",
        "#     # Step 3: Get the user index (ALS uses indexed users/items)\n",
        "#     user_index_model = indexers[\"user\"]\n",
        "#     item_index_model = indexers[\"item\"]\n",
        "#     user_indexed = user_index_model.transform(\n",
        "#         spark.createDataFrame([(user_id,)], [\"userId\"])\n",
        "#     ).select(\"userIndex\").collect()[0][0]\n",
        "\n",
        "#     # Step 4: Create dummy DataFrame with all item indices to score\n",
        "#     all_items_indexed = item_index_model.transform(\n",
        "#         item_index_model.labelsArray  # recreate the item ID DataFrame\n",
        "#     )\n",
        "#     user_items = all_items_indexed.withColumn(\"userIndex\", lit(user_indexed))\n",
        "\n",
        "#     # Step 5: Generate recommendations\n",
        "#     recommendations = als_model.transform(user_items).dropna().orderBy(\"prediction\", ascending=False)\n",
        "\n",
        "#     # Step 6: Map itemIdIndex back to original itemId\n",
        "#     item_labels = spark.createDataFrame(\n",
        "#         [(i, label) for i, label in enumerate(item_index_model.labels)],\n",
        "#         [\"itemIndex\", \"itemId\"]\n",
        "#     )\n",
        "#     final_recommendations = recommendations.join(item_labels, on=\"itemIndex\", how=\"inner\") \\\n",
        "#                                            .select(\"itemId\", \"prediction\") \\\n",
        "#                                            .orderBy(\"prediction\", ascending=False) \\\n",
        "#                                            .limit(top_n)\n",
        "\n",
        "#     return final_recommendations"
      ],
      "metadata": {
        "id": "GHsgVzSd04Sa"
      },
      "execution_count": null,
      "outputs": []
    },
    {
      "cell_type": "code",
      "source": [
        "from pyspark.ml.recommendation import ALSModel\n",
        "from pyspark.sql.functions import col, lit\n",
        "import os\n",
        "\n",
        "def recommend_for_user(user_id, user_segments_df, indexers, top_n=5):\n",
        "    \"\"\"\n",
        "    Recommends top-N items for a given user based on their cluster.\n",
        "\n",
        "    Parameters:\n",
        "    - user_id (str): ID of the user\n",
        "    - user_segments_df (DataFrame): must contain 'reviewerID' and 'prediction' columns\n",
        "    - indexers (dict): {\"user\": user_indexer_model, \"item\": item_indexer_model}\n",
        "    - top_n (int): number of recommendations\n",
        "\n",
        "    Returns:\n",
        "    - DataFrame with recommendations (itemId, predicted rating)\n",
        "    \"\"\"\n",
        "\n",
        "    # Step 1: Get cluster for user\n",
        "    cluster_row = user_segments_df.filter(col(\"reviewerID\") == user_id).select(\"prediction\").collect()\n",
        "    if not cluster_row:\n",
        "        print(f\"User {user_id} not found in segmentation.\")\n",
        "        return None\n",
        "    cluster_id = cluster_row[0][\"prediction\"]\n",
        "\n",
        "    # Step 2: Load ALS model\n",
        "    model_path = f\"/content/new/als_models/als_model_cluster_{cluster_id}\"\n",
        "    if not os.path.exists(model_path):\n",
        "        print(f\"Model path {model_path} does not exist.\")\n",
        "        return None\n",
        "    als_model = ALSModel.load(model_path)\n",
        "\n",
        "    # Step 3: Get indexed user ID\n",
        "    user_index_model = indexers[\"user\"]\n",
        "    item_index_model = indexers[\"item\"]\n",
        "\n",
        "    user_indexed_df = user_index_model.transform(\n",
        "        spark.createDataFrame([(user_id,)], [\"userId\"])\n",
        "    )\n",
        "    user_indexed = user_indexed_df.select(\"userIdIndex\").collect()[0][0]\n",
        "\n",
        "    # Step 4: Create item DataFrame and index it\n",
        "    item_ids = [(item,) for item in item_index_model.labels]  # labels contains original item IDs\n",
        "    item_df = spark.createDataFrame(item_ids, [\"itemId\"])\n",
        "    item_indexed_df = item_index_model.transform(item_df)\n",
        "\n",
        "    # Step 5: Create input for ALS: user + all item indices\n",
        "    # user_items = item_indexed_df.withColumn(\"userIndex\", lit(user_indexed))\n",
        "    user_items = item_indexed_df.withColumn(\"userIdIndex\", lit(user_indexed)) \\\n",
        "                            # .withColumnRenamed(\"itemIdIndex\", \"itemIdIndex\")\n",
        "\n",
        "    # Step 6: Predict ratings\n",
        "    recommendations = als_model.transform(user_items).dropna().orderBy(\"prediction\", ascending=False)\n",
        "\n",
        "    # Step 7: Return top-N recommendations with original itemId\n",
        "    final_recommendations = recommendations.select(\"itemId\", \"prediction\").limit(top_n)\n",
        "\n",
        "    return final_recommendations"
      ],
      "metadata": {
        "id": "0SvavZq_3Mua"
      },
      "execution_count": null,
      "outputs": []
    },
    {
      "cell_type": "code",
      "source": [
        "# Load your segmentation results\n",
        "user_segments_df = spark.read.parquet(\"/content/new/user_segments.parquet\")\n",
        "\n",
        "# indexers used during training\n",
        "indexers = {\n",
        "    \"user\": user_indexer_model,\n",
        "    \"item\": item_indexer_model\n",
        "}"
      ],
      "metadata": {
        "id": "HY-hnQon2CPc"
      },
      "execution_count": null,
      "outputs": []
    },
    {
      "cell_type": "code",
      "source": [
        "rec_df = recommend_for_user(\"A3VYM3NY7W4MX4\", user_segments_df, indexers, top_n=5)\n",
        "if rec_df:\n",
        "    rec_df.show()"
      ],
      "metadata": {
        "colab": {
          "base_uri": "https://localhost:8080/"
        },
        "id": "OqO5yhF9gjz_",
        "outputId": "c3977e77-0e9a-4815-c354-daf1c3574034"
      },
      "execution_count": null,
      "outputs": [
        {
          "output_type": "stream",
          "name": "stdout",
          "text": [
            "+----------+----------+\n",
            "|    itemId|prediction|\n",
            "+----------+----------+\n",
            "|B0014CN8Y8| 4.9885216|\n",
            "|B0006GVNOA| 4.9791174|\n",
            "|B00IYZP4AY| 4.0031486|\n",
            "|B00AVCBYK2| 4.0030065|\n",
            "|B00J4V77DO| 2.0015743|\n",
            "+----------+----------+\n",
            "\n"
          ]
        }
      ]
    },
    {
      "cell_type": "markdown",
      "source": [
        "# assign a cluster to a new user"
      ],
      "metadata": {
        "id": "VacKn0tO4mmC"
      }
    },
    {
      "cell_type": "code",
      "source": [
        "from pyspark.ml.feature import VectorAssembler, StandardScalerModel\n",
        "from pyspark.ml.clustering import KMeansModel\n",
        "from pyspark.sql.functions import col, count, avg, max, min, sum as _sum"
      ],
      "metadata": {
        "id": "acPY-kPk4s3R"
      },
      "execution_count": null,
      "outputs": []
    },
    {
      "cell_type": "code",
      "source": [
        "def assign_cluster_to_new_user(new_user_df, feature_scaler_model: StandardScalerModel, kmeans_model: KMeansModel):\n",
        "    # Step 0: Check if DataFrame is empty\n",
        "    if new_user_df.isEmpty():\n",
        "        raise ValueError(\"Input DataFrame is empty. Cannot compute features.\")\n",
        "\n",
        "    # Step 1: Aggregate features\n",
        "    agg_df = new_user_df.agg(\n",
        "        count(\"*\").alias(\"num_reviews\"),\n",
        "        avg(\"overall\").alias(\"avg_rating\"),\n",
        "        sum_(col(\"verified\").cast(\"int\")).alias(\"num_verified\"),\n",
        "        min(\"unixReviewTime\").alias(\"first_review\"),\n",
        "        max(\"unixReviewTime\").alias(\"last_review\")\n",
        "    )\n",
        "\n",
        "    agg_df = agg_df.withColumn(\"verified_ratio\", col(\"num_verified\") / col(\"num_reviews\"))\n",
        "    agg_df = agg_df.withColumn(\"review_timespan\", (col(\"last_review\") - col(\"first_review\")) / 86400)  # in days\n",
        "    agg_df = agg_df.na.fill(0)\n",
        "\n",
        "    # Step 2: Vector assemble\n",
        "    assembler = VectorAssembler(inputCols=[\"num_reviews\", \"avg_rating\", \"verified_ratio\", \"review_timespan\"], outputCol=\"features_raw\")\n",
        "    assembled_df = assembler.transform(agg_df)\n",
        "\n",
        "    # Step 3: Normalize using existing scaler model\n",
        "    normalized_df = feature_scaler_model.transform(assembled_df)\n",
        "\n",
        "    # Step 4: Predict cluster using trained KMeans model\n",
        "    clustered_df = kmeans_model.transform(normalized_df)\n",
        "\n",
        "    # Return predicted cluster ID\n",
        "    cluster_id = clustered_df.select(\"prediction\").first()[\"prediction\"]\n",
        "    return cluster_id"
      ],
      "metadata": {
        "id": "y-NxWoJq2GZ7"
      },
      "execution_count": null,
      "outputs": []
    },
    {
      "cell_type": "code",
      "source": [
        "scaler_model = StandardScalerModel.load(\"/content/new/scaler_model\")\n",
        "kmeans_model = KMeansModel.load(\"/content/new/kmeans_model\")"
      ],
      "metadata": {
        "id": "U6h6uimC2Ycf"
      },
      "execution_count": null,
      "outputs": []
    },
    {
      "cell_type": "code",
      "source": [
        "new_user_reviews = spark.createDataFrame([\n",
        "    {\"overall\": 1.0, \"verified\": True, \"unixReviewTime\": 1680000000},\n",
        "    {\"overall\": 4.0, \"verified\": True, \"unixReviewTime\": 1680500000},\n",
        "    {\"overall\": 1.0, \"verified\": False, \"unixReviewTime\": 1681000000},\n",
        "])"
      ],
      "metadata": {
        "id": "1KrCaiZSjKpa"
      },
      "execution_count": null,
      "outputs": []
    },
    {
      "cell_type": "code",
      "source": [
        "cluster = assign_cluster_to_new_user(new_user_reviews, scaler_model, kmeans_model)\n",
        "print(\"New user assigned to cluster:\", cluster)"
      ],
      "metadata": {
        "id": "fDHGdJip47UD",
        "colab": {
          "base_uri": "https://localhost:8080/"
        },
        "outputId": "fd1679e3-47bb-47bd-ff66-a0f85495ae80"
      },
      "execution_count": null,
      "outputs": [
        {
          "output_type": "stream",
          "name": "stdout",
          "text": [
            "New user assigned to cluster: 0\n"
          ]
        }
      ]
    },
    {
      "cell_type": "code",
      "source": [],
      "metadata": {
        "id": "Jedib48kmEhm"
      },
      "execution_count": null,
      "outputs": []
    },
    {
      "cell_type": "code",
      "source": [
        "from google.colab import drive\n",
        "drive.mount('/content/drive')"
      ],
      "metadata": {
        "colab": {
          "base_uri": "https://localhost:8080/"
        },
        "id": "zN1ySIWkpzFd",
        "outputId": "7a912073-fdb9-4876-da00-ba2bc7d4b84f"
      },
      "execution_count": null,
      "outputs": [
        {
          "output_type": "stream",
          "name": "stdout",
          "text": [
            "Mounted at /content/drive\n"
          ]
        }
      ]
    },
    {
      "cell_type": "code",
      "source": [
        "import shutil"
      ],
      "metadata": {
        "id": "cQ4oH8lQpz3s"
      },
      "execution_count": null,
      "outputs": []
    },
    {
      "cell_type": "code",
      "source": [
        "shutil.copytree(\n",
        "    src=\"/content/new/als_models\",\n",
        "    dst=\"/content/drive/MyDrive/!bigdata/als_models\",\n",
        "    dirs_exist_ok=True  # Overwrite if folder exists\n",
        ")"
      ],
      "metadata": {
        "colab": {
          "base_uri": "https://localhost:8080/",
          "height": 35
        },
        "id": "fGScapOyqayW",
        "outputId": "8751fc3e-f970-4af5-b3c6-429a397f7e26"
      },
      "execution_count": null,
      "outputs": [
        {
          "output_type": "execute_result",
          "data": {
            "text/plain": [
              "'/content/drive/MyDrive/!bigdata/als_models'"
            ],
            "application/vnd.google.colaboratory.intrinsic+json": {
              "type": "string"
            }
          },
          "metadata": {},
          "execution_count": 86
        }
      ]
    },
    {
      "cell_type": "code",
      "source": [
        "shutil.copytree(\n",
        "    src=\"/content/new/indexers\",\n",
        "    dst=\"/content/drive/MyDrive/!bigdata/indexers\",\n",
        "    dirs_exist_ok=True  # Overwrite if folder exists\n",
        ")"
      ],
      "metadata": {
        "colab": {
          "base_uri": "https://localhost:8080/",
          "height": 35
        },
        "id": "VJeTzeUQqbJ5",
        "outputId": "8a64c67a-d1b8-4576-90ac-1ccda62b27e4"
      },
      "execution_count": null,
      "outputs": [
        {
          "output_type": "execute_result",
          "data": {
            "text/plain": [
              "'/content/drive/MyDrive/!bigdata/indexers'"
            ],
            "application/vnd.google.colaboratory.intrinsic+json": {
              "type": "string"
            }
          },
          "metadata": {},
          "execution_count": 87
        }
      ]
    },
    {
      "cell_type": "code",
      "source": [
        "shutil.copytree(\n",
        "    src=\"/content/new/kmeans_model\",\n",
        "    dst=\"/content/drive/MyDrive/!bigdata/kmeans_model\",\n",
        "    dirs_exist_ok=True  # Overwrite if folder exists\n",
        ")"
      ],
      "metadata": {
        "colab": {
          "base_uri": "https://localhost:8080/",
          "height": 35
        },
        "id": "v1KuDZ24qq0Y",
        "outputId": "5b9804de-9968-47b0-c9bb-6dfd923ab887"
      },
      "execution_count": null,
      "outputs": [
        {
          "output_type": "execute_result",
          "data": {
            "text/plain": [
              "'/content/drive/MyDrive/!bigdata/kmeans_model'"
            ],
            "application/vnd.google.colaboratory.intrinsic+json": {
              "type": "string"
            }
          },
          "metadata": {},
          "execution_count": 88
        }
      ]
    },
    {
      "cell_type": "code",
      "source": [
        "shutil.copytree(\n",
        "    src=\"/content/new/scaler_model\",\n",
        "    dst=\"/content/drive/MyDrive/!bigdata/scaler_model\",\n",
        "    dirs_exist_ok=True  # Overwrite if folder exists\n",
        ")"
      ],
      "metadata": {
        "colab": {
          "base_uri": "https://localhost:8080/",
          "height": 35
        },
        "id": "n9DVb-GDqyej",
        "outputId": "755e5196-7277-4739-a853-94c09fdeffbe"
      },
      "execution_count": null,
      "outputs": [
        {
          "output_type": "execute_result",
          "data": {
            "text/plain": [
              "'/content/drive/MyDrive/!bigdata/scaler_model'"
            ],
            "application/vnd.google.colaboratory.intrinsic+json": {
              "type": "string"
            }
          },
          "metadata": {},
          "execution_count": 89
        }
      ]
    },
    {
      "cell_type": "code",
      "source": [
        "shutil.copytree(\n",
        "    src=\"/content/new/user_segments.parquet\",\n",
        "    dst=\"/content/drive/MyDrive/!bigdata/user_segments\",\n",
        "    dirs_exist_ok=True  # Overwrite if folder exists\n",
        ")"
      ],
      "metadata": {
        "colab": {
          "base_uri": "https://localhost:8080/",
          "height": 35
        },
        "id": "HvLbVVnrq5Lr",
        "outputId": "1104bcbf-f0ec-49ca-94f0-11d41cbaedae"
      },
      "execution_count": null,
      "outputs": [
        {
          "output_type": "execute_result",
          "data": {
            "text/plain": [
              "'/content/drive/MyDrive/!bigdata/user_segments'"
            ],
            "application/vnd.google.colaboratory.intrinsic+json": {
              "type": "string"
            }
          },
          "metadata": {},
          "execution_count": 90
        }
      ]
    },
    {
      "cell_type": "code",
      "source": [],
      "metadata": {
        "id": "5b1uwy31q-yq"
      },
      "execution_count": null,
      "outputs": []
    }
  ]
}